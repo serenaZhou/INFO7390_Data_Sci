{
  "nbformat": 4,
  "nbformat_minor": 0,
  "metadata": {
    "colab": {
      "name": "Project-20200418.ipynb",
      "provenance": [],
      "collapsed_sections": []
    },
    "kernelspec": {
      "name": "python3",
      "display_name": "Python 3"
    }
  },
  "cells": [
    {
      "cell_type": "markdown",
      "metadata": {
        "id": "CCIvffRHzv_E",
        "colab_type": "text"
      },
      "source": [
        "# Project"
      ]
    },
    {
      "cell_type": "markdown",
      "metadata": {
        "id": "rSMx0n7Tzry2",
        "colab_type": "text"
      },
      "source": [
        "### 1 Load Packages"
      ]
    },
    {
      "cell_type": "code",
      "metadata": {
        "id": "Q2jfJzJtAAPN",
        "colab_type": "code",
        "outputId": "c925f517-2bab-4a43-a600-10ed45104a8f",
        "colab": {
          "base_uri": "https://localhost:8080/",
          "height": 34
        }
      },
      "source": [
        "# ========================TensorFlow========================\n",
        "try:\n",
        "  # %tensorflow_version only exists in Colab.\n",
        "  %tensorflow_version 2.x\n",
        "except Exception:\n",
        "  pass\n",
        "\n",
        "import tensorflow as tf\n",
        "from tensorflow import keras\n",
        "print(tf.__version__)"
      ],
      "execution_count": 1,
      "outputs": [
        {
          "output_type": "stream",
          "text": [
            "2.2.0-rc3\n"
          ],
          "name": "stdout"
        }
      ]
    },
    {
      "cell_type": "code",
      "metadata": {
        "id": "V2Tg8mbar1BH",
        "colab_type": "code",
        "outputId": "7c618268-77d5-47d0-9f51-64e514893d2e",
        "colab": {
          "base_uri": "https://localhost:8080/",
          "height": 34
        }
      },
      "source": [
        "# ========================General========================\n",
        "import json\n",
        "import joblib\n",
        "import scipy\n",
        "import pandas as pd\n",
        "import numpy as np\n",
        "import requests\n",
        "# ignore warnings\n",
        "import warnings\n",
        "warnings.filterwarnings('ignore')\n",
        "# ========================Ploting========================\n",
        "import matplotlib as mpl\n",
        "from matplotlib import pyplot as plt\n",
        "import seaborn as sns\n",
        "%matplotlib inline\n",
        "# ========================Data Preprocessing========================\n",
        "from sklearn import preprocessing\n",
        "from sklearn.preprocessing import LabelEncoder\n",
        "from sklearn.preprocessing import MinMaxScaler\n",
        "from sklearn.model_selection import train_test_split\n",
        "from sklearn.decomposition import PCA\n",
        "# ========================Modeling========================\n",
        "from sklearn.neighbors import KNeighborsClassifier\n",
        "from sklearn.tree import DecisionTreeClassifier\n",
        "# ========================Evaluation========================\n",
        "from sklearn.model_selection import  cross_val_score\n",
        "from sklearn.model_selection import GridSearchCV\n",
        "from sklearn.metrics import mean_absolute_error, r2_score\n",
        "from sklearn.metrics import confusion_matrix, accuracy_score, matthews_corrcoef, f1_score\n",
        "# ========================Deep Learning========================\n",
        "# MLP\n",
        "from keras.models import Sequential\n",
        "from keras.layers import Dense, Activation, Dropout, AlphaDropout\n",
        "# ================================================"
      ],
      "execution_count": 2,
      "outputs": [
        {
          "output_type": "stream",
          "text": [
            "Using TensorFlow backend.\n"
          ],
          "name": "stderr"
        }
      ]
    },
    {
      "cell_type": "code",
      "metadata": {
        "id": "W7XkRMngiJDg",
        "colab_type": "code",
        "outputId": "bd040c15-8d87-40d4-cd31-8e009912274a",
        "colab": {
          "base_uri": "https://localhost:8080/",
          "height": 34
        }
      },
      "source": [
        "from google.colab import drive\n",
        "drive.mount('/content/drive')"
      ],
      "execution_count": 3,
      "outputs": [
        {
          "output_type": "stream",
          "text": [
            "Drive already mounted at /content/drive; to attempt to forcibly remount, call drive.mount(\"/content/drive\", force_remount=True).\n"
          ],
          "name": "stdout"
        }
      ]
    },
    {
      "cell_type": "markdown",
      "metadata": {
        "id": "9NawEZ8ni5wm",
        "colab_type": "text"
      },
      "source": [
        "### 2 Load dataset"
      ]
    },
    {
      "cell_type": "code",
      "metadata": {
        "id": "HI0TA9aIsEzo",
        "colab_type": "code",
        "colab": {}
      },
      "source": [
        "# load movie\n",
        "def load_tmdb_movies(path):\n",
        "    df = pd.read_csv(path)\n",
        "    df = df[df.release_date.notnull()]\n",
        "    df = df[df.release_date.str.contains(\"^\\d{4}\\-\\d{2}.\")]\n",
        "    df = df[df.release_date>=\"1970-01-01\"]\n",
        "    df['release_year'] = pd.to_datetime(df['release_date']).apply(lambda x: int(x.year) if x==x else None)\n",
        "    df['release_month'] = pd.to_datetime(df['release_date']).apply(lambda x: int(x.month) if x==x else None)\n",
        "    json_columns = ['genres', 'keywords', 'production_countries', 'production_companies', 'spoken_languages']\n",
        "    for column in json_columns:\n",
        "        df[column] = df[column].apply(json.loads)\n",
        "    return df"
      ],
      "execution_count": 0,
      "outputs": []
    },
    {
      "cell_type": "code",
      "metadata": {
        "id": "okHCJC0lMbHp",
        "colab_type": "code",
        "colab": {}
      },
      "source": [
        "# load movie credits\n",
        "def load_tmdb_credits(path):\n",
        "    df = pd.read_csv(path)\n",
        "    json_columns = ['cast', 'crew']\n",
        "    for column in json_columns:\n",
        "        df[column] = df[column].apply(json.loads)\n",
        "    return df"
      ],
      "execution_count": 0,
      "outputs": []
    },
    {
      "cell_type": "code",
      "metadata": {
        "id": "r88fa-ACsGqo",
        "colab_type": "code",
        "colab": {}
      },
      "source": [
        "'''\n",
        "We get our data from TMDB API by send API requests.\n",
        "In this kernel, we standardize the data we create \n",
        "to the same pattern as the IMDB dataset (the mostly\n",
        "wide used moive dataset for data analysis)\n",
        "'''\n",
        "# Columns that existed in IMDB version of the dataset and are gone.\n",
        "LOST_COLUMNS = [\n",
        "    'actor_1_facebook_likes',\n",
        "    'actor_2_facebook_likes',\n",
        "    'actor_3_facebook_likes',\n",
        "    'aspect_ratio',\n",
        "    'cast_total_facebook_likes',\n",
        "    'color',\n",
        "    'content_rating',\n",
        "    'director_facebook_likes',\n",
        "    'facenumber_in_poster',\n",
        "    'movie_facebook_likes',\n",
        "    'movie_imdb_link',\n",
        "    'num_critic_for_reviews',\n",
        "    'num_user_for_reviews']\n",
        "\n",
        "# Columns in TMDb that had direct equivalents in the IMDB version. \n",
        "TMDB_TO_IMDB_SIMPLE_EQUIVALENCIES = {\n",
        "    'budget': 'budget',\n",
        "    'genres': 'genres',\n",
        "    'revenue': 'box_office',\n",
        "    'title': 'movie_title',\n",
        "    'runtime': 'duration',\n",
        "    'original_language': 'language',  \n",
        "    'keywords': 'plot_keywords',\n",
        "    'vote_count': 'num_voted_users'}\n",
        "\n",
        "IMDB_COLUMNS_TO_REMAP = {'imdb_score': 'vote_average'}\n",
        "\n",
        "\n",
        "def safe_access(container, index_values):\n",
        "    # return a missing value rather than an error upon indexing/key failure\n",
        "    result = container\n",
        "    try:\n",
        "        for idx in index_values:\n",
        "            result = result[idx]\n",
        "        return result\n",
        "    except IndexError or KeyError:\n",
        "        return pd.np.nan\n",
        "\n",
        "\n",
        "def get_director(crew_data):\n",
        "    directors = [x['name'] for x in crew_data if x['job'] == 'Director']\n",
        "    return safe_access(directors, [0])\n",
        "\n",
        "\n",
        "def pipe_flatten_names(keywords):\n",
        "    return '|'.join([x['name'] for x in keywords])\n",
        "\n",
        "# Function to convert dataset to IMDB format\n",
        "def convert_to_original_format(movies, credits):\n",
        "    tmdb_movies = movies.copy()\n",
        "    tmdb_movies.rename(columns=TMDB_TO_IMDB_SIMPLE_EQUIVALENCIES, inplace=True)\n",
        "    tmdb_movies['country'] = tmdb_movies['production_countries'].apply(lambda x: safe_access(x, [0, 'name']))\n",
        "    tmdb_movies['language'] = tmdb_movies['spoken_languages'].apply(lambda x: safe_access(x, [0, 'name']))\n",
        "    tmdb_movies['director_name'] = credits['crew'].apply(get_director)\n",
        "    tmdb_movies['actor_1_name'] = credits['cast'].apply(lambda x: safe_access(x, [0, 'name']))\n",
        "    tmdb_movies['actor_2_name'] = credits['cast'].apply(lambda x: safe_access(x, [1, 'name']))\n",
        "    tmdb_movies['actor_3_name'] = credits['cast'].apply(lambda x: safe_access(x, [2, 'name']))\n",
        "    tmdb_movies['companies_1'] = tmdb_movies['production_companies'].apply(lambda x: safe_access(x, [0, 'name']))\n",
        "    tmdb_movies['companies_2'] = tmdb_movies['production_companies'].apply(lambda x: safe_access(x, [1, 'name']))\n",
        "    tmdb_movies['companies_3'] = tmdb_movies['production_companies'].apply(lambda x: safe_access(x, [2, 'name']))\n",
        "    tmdb_movies['genres'] = tmdb_movies['genres'].apply(pipe_flatten_names)\n",
        "    tmdb_movies['plot_keywords'] = tmdb_movies['plot_keywords'].apply(pipe_flatten_names)\n",
        "    return tmdb_movies"
      ],
      "execution_count": 0,
      "outputs": []
    },
    {
      "cell_type": "code",
      "metadata": {
        "id": "kLWt5CLTitTJ",
        "colab_type": "code",
        "colab": {}
      },
      "source": [
        "# link to raw data: https://drive.google.com/file/d/19C8m6CwRu9I-eydnTbp4gPCp_eeFMb7t/view\n",
        "movies_path = '/content/drive/My Drive/Colab Notebooks/NEU-7390 Advances Data Sci Architecture/movie_data.csv'\n",
        "# link to raw data: https://drive.google.com/file/d/1mnH9UaaXZ-gP3At0Q2Qus-Gz0EJOqiYx/view\n",
        "credits_path = '/content/drive/My Drive/Colab Notebooks/NEU-7390 Advances Data Sci Architecture/movie_credits.csv'"
      ],
      "execution_count": 0,
      "outputs": []
    },
    {
      "cell_type": "code",
      "metadata": {
        "id": "Wee6OKqQoGZ7",
        "colab_type": "code",
        "colab": {}
      },
      "source": [
        "movies = load_tmdb_movies(movies_path)\n",
        "credits = load_tmdb_credits(credits_path)\n",
        "raw_data =convert_to_original_format(movies, credits)"
      ],
      "execution_count": 0,
      "outputs": []
    },
    {
      "cell_type": "markdown",
      "metadata": {
        "id": "HmxT6iObAA-2",
        "colab_type": "text"
      },
      "source": [
        "### 3 Data Preprocessing\n",
        "*   Handling Missing Values\n",
        "*   Drop Duplication Values\n",
        "*   Drop Outliers"
      ]
    },
    {
      "cell_type": "markdown",
      "metadata": {
        "id": "09mKqm1h0267",
        "colab_type": "text"
      },
      "source": [
        "#### 3.1 Handling Missing Values"
      ]
    },
    {
      "cell_type": "code",
      "metadata": {
        "id": "I3OUFK6GPdyq",
        "colab_type": "code",
        "outputId": "74aa3bfd-6663-4cef-fb5b-255ad3e95f05",
        "colab": {
          "base_uri": "https://localhost:8080/",
          "height": 198
        }
      },
      "source": [
        "raw_data.head(1)"
      ],
      "execution_count": 9,
      "outputs": [
        {
          "output_type": "execute_result",
          "data": {
            "text/html": [
              "<div>\n",
              "<style scoped>\n",
              "    .dataframe tbody tr th:only-of-type {\n",
              "        vertical-align: middle;\n",
              "    }\n",
              "\n",
              "    .dataframe tbody tr th {\n",
              "        vertical-align: top;\n",
              "    }\n",
              "\n",
              "    .dataframe thead th {\n",
              "        text-align: right;\n",
              "    }\n",
              "</style>\n",
              "<table border=\"1\" class=\"dataframe\">\n",
              "  <thead>\n",
              "    <tr style=\"text-align: right;\">\n",
              "      <th></th>\n",
              "      <th>budget</th>\n",
              "      <th>genres</th>\n",
              "      <th>homepage</th>\n",
              "      <th>id</th>\n",
              "      <th>plot_keywords</th>\n",
              "      <th>language</th>\n",
              "      <th>original_title</th>\n",
              "      <th>overview</th>\n",
              "      <th>popularity</th>\n",
              "      <th>production_companies</th>\n",
              "      <th>production_countries</th>\n",
              "      <th>release_date</th>\n",
              "      <th>box_office</th>\n",
              "      <th>duration</th>\n",
              "      <th>spoken_languages</th>\n",
              "      <th>status</th>\n",
              "      <th>tagline</th>\n",
              "      <th>movie_title</th>\n",
              "      <th>vote_average</th>\n",
              "      <th>num_voted_users</th>\n",
              "      <th>release_year</th>\n",
              "      <th>release_month</th>\n",
              "      <th>country</th>\n",
              "      <th>director_name</th>\n",
              "      <th>actor_1_name</th>\n",
              "      <th>actor_2_name</th>\n",
              "      <th>actor_3_name</th>\n",
              "      <th>companies_1</th>\n",
              "      <th>companies_2</th>\n",
              "      <th>companies_3</th>\n",
              "    </tr>\n",
              "  </thead>\n",
              "  <tbody>\n",
              "    <tr>\n",
              "      <th>3</th>\n",
              "      <td>0</td>\n",
              "      <td>Comedy</td>\n",
              "      <td>NaN</td>\n",
              "      <td>21624</td>\n",
              "      <td></td>\n",
              "      <td>NaN</td>\n",
              "      <td>Jatts in Golmaal</td>\n",
              "      <td>Jatts in Golmal is an Comedy based movie. In w...</td>\n",
              "      <td>0.6</td>\n",
              "      <td>[]</td>\n",
              "      <td>[]</td>\n",
              "      <td>2003-02-21</td>\n",
              "      <td>0.0</td>\n",
              "      <td>NaN</td>\n",
              "      <td>[]</td>\n",
              "      <td>Released</td>\n",
              "      <td>NaN</td>\n",
              "      <td>Jatts in Golmaal</td>\n",
              "      <td>0.0</td>\n",
              "      <td>0.0</td>\n",
              "      <td>2003</td>\n",
              "      <td>2</td>\n",
              "      <td>NaN</td>\n",
              "      <td>NaN</td>\n",
              "      <td>NaN</td>\n",
              "      <td>NaN</td>\n",
              "      <td>NaN</td>\n",
              "      <td>NaN</td>\n",
              "      <td>NaN</td>\n",
              "      <td>NaN</td>\n",
              "    </tr>\n",
              "  </tbody>\n",
              "</table>\n",
              "</div>"
            ],
            "text/plain": [
              "  budget  genres homepage  ... companies_1 companies_2 companies_3\n",
              "3      0  Comedy      NaN  ...         NaN         NaN         NaN\n",
              "\n",
              "[1 rows x 30 columns]"
            ]
          },
          "metadata": {
            "tags": []
          },
          "execution_count": 9
        }
      ]
    },
    {
      "cell_type": "code",
      "metadata": {
        "id": "qNxNxwyJCWCv",
        "colab_type": "code",
        "colab": {}
      },
      "source": [
        "def missing_value_table(df):\n",
        "    total_missing = df.isnull().sum().sort_values(ascending=False)\n",
        "    percent = round(((df.isnull().sum()/len(df))*100),2).sort_values(ascending=False)\n",
        "    missing_data = pd.concat([total_missing, percent], axis=1, keys=['total Missing', 'Percent(%)'])\n",
        "    print(\"=====Missing Value Check Table(only list not 0% column)=====\")\n",
        "    print(missing_data[missing_data['Percent(%)'] != 0])\n",
        "    if missing_data[missing_data['Percent(%)'] != 0].shape[0] == 0:\n",
        "        print(\"=====No Missing Value in Data after Checking=====\")"
      ],
      "execution_count": 0,
      "outputs": []
    },
    {
      "cell_type": "code",
      "metadata": {
        "id": "uL6K4OmGCdbX",
        "colab_type": "code",
        "outputId": "b5212f75-99a4-425b-c31c-ea1a23a3c121",
        "colab": {
          "base_uri": "https://localhost:8080/",
          "height": 269
        }
      },
      "source": [
        "missing_value_table(raw_data)"
      ],
      "execution_count": 11,
      "outputs": [
        {
          "output_type": "stream",
          "text": [
            "=====Missing Value Check Table(only list not 0% column)=====\n",
            "               total Missing  Percent(%)\n",
            "homepage               36258       84.18\n",
            "companies_3            35398       82.18\n",
            "actor_3_name           29391       68.24\n",
            "actor_2_name           29179       67.74\n",
            "director_name          29042       67.43\n",
            "companies_2            28811       66.89\n",
            "actor_1_name           28747       66.74\n",
            "tagline                27682       64.27\n",
            "companies_1            16102       37.38\n",
            "country                 8171       18.97\n",
            "language                5137       11.93\n",
            "overview                1906        4.43\n",
            "duration                 346        0.80\n"
          ],
          "name": "stdout"
        }
      ]
    },
    {
      "cell_type": "code",
      "metadata": {
        "id": "yWGYpxH6k6DX",
        "colab_type": "code",
        "colab": {}
      },
      "source": [
        "# drop homepage & tagline, which are useless and also have many missing values\n",
        "raw_data.drop(['homepage','tagline'], axis=1, inplace=True)"
      ],
      "execution_count": 0,
      "outputs": []
    },
    {
      "cell_type": "markdown",
      "metadata": {
        "id": "4qMrd1gO1FT-",
        "colab_type": "text"
      },
      "source": [
        "#### 3.2 Drop Duplication Values and Unseen Features"
      ]
    },
    {
      "cell_type": "code",
      "metadata": {
        "id": "6Rof3hdTmKhc",
        "colab_type": "code",
        "colab": {}
      },
      "source": [
        "# Drop Duplication Values\n",
        "drop_duplicates_subset = ('budget', 'genres', 'id', 'plot_keywords', 'language', 'original_title','overview', 'popularity','release_date', 'box_office', 'duration','status','movie_title','vote_average','num_voted_users')\n",
        "raw_data.drop_duplicates(subset=drop_duplicates_subset, keep='first', inplace=True)"
      ],
      "execution_count": 0,
      "outputs": []
    },
    {
      "cell_type": "code",
      "metadata": {
        "id": "pgDmAxdNmKmm",
        "colab_type": "code",
        "colab": {}
      },
      "source": [
        "# Drop features that only know after movie release, 'box_office' column will be dropped later after define the success of each movie\n",
        "raw_data.drop(['num_voted_users', 'popularity'], axis=1, inplace=True)"
      ],
      "execution_count": 0,
      "outputs": []
    },
    {
      "cell_type": "code",
      "metadata": {
        "id": "DJ5JAJpouebc",
        "colab_type": "code",
        "outputId": "7cc37a0d-5d6a-4271-b37b-020351dd4785",
        "colab": {
          "base_uri": "https://localhost:8080/",
          "height": 496
        }
      },
      "source": [
        "# Correlation matrix between numerical values\n",
        "plt.figure(figsize = (15,8))\n",
        "g = sns.heatmap(raw_data[list(raw_data)].corr(),annot=True, fmt = \".2f\", cmap = \"coolwarm\",linewidths= 0.01)"
      ],
      "execution_count": 15,
      "outputs": [
        {
          "output_type": "display_data",
          "data": {
            "image/png": "[encoded data removed]",
            "text/plain": [
              "<Figure size 1080x576 with 2 Axes>"
            ]
          },
          "metadata": {
            "tags": [],
            "needs_background": "light"
          }
        }
      ]
    },
    {
      "cell_type": "markdown",
      "metadata": {
        "id": "oOwKUo4d0yGm",
        "colab_type": "text"
      },
      "source": [
        "#### 3.3 Drop Outliers"
      ]
    },
    {
      "cell_type": "code",
      "metadata": {
        "id": "JfbZ3Q7SnGqy",
        "colab_type": "code",
        "outputId": "dc67ff52-b456-4306-e13c-7902b0736567",
        "colab": {
          "base_uri": "https://localhost:8080/",
          "height": 280
        }
      },
      "source": [
        "# Plot the histgram of vote_average\n",
        "plt.figure(figsize=(10, 4))\n",
        "sns.set_style('darkgrid')\n",
        "sns.distplot(raw_data.vote_average, kde=True)\n",
        "plt.show()"
      ],
      "execution_count": 16,
      "outputs": [
        {
          "output_type": "display_data",
          "data": {
            "image/png": "[encoded data removed]",
            "text/plain": [
              "<Figure size 720x288 with 1 Axes>"
            ]
          },
          "metadata": {
            "tags": [],
            "needs_background": "light"
          }
        }
      ]
    },
    {
      "cell_type": "code",
      "metadata": {
        "id": "CKJ36hZkueln",
        "colab_type": "code",
        "outputId": "f1f21863-58e1-49cb-cdd9-0af9d03ea399",
        "colab": {
          "base_uri": "https://localhost:8080/",
          "height": 50
        }
      },
      "source": [
        "# Drop rows in dataset containing 0 and below vote average\n",
        "before_rows = len(raw_data)\n",
        "raw_data = raw_data[raw_data['vote_average'] > 0]\n",
        "print('Delete {} rows;\\nCurrent Total rows: {}'.format(before_rows-len(raw_data), len(raw_data)))"
      ],
      "execution_count": 17,
      "outputs": [
        {
          "output_type": "stream",
          "text": [
            "Delete 4915 rows;\n",
            "Current Total rows: 38157\n"
          ],
          "name": "stdout"
        }
      ]
    },
    {
      "cell_type": "code",
      "metadata": {
        "id": "ad7mLd7bueql",
        "colab_type": "code",
        "outputId": "4f3a2231-28b1-4124-c2ee-2dc6c5e2bca7",
        "colab": {
          "base_uri": "https://localhost:8080/",
          "height": 280
        }
      },
      "source": [
        "# After dropping outliers, the distribution of vote average(blue line) is more like normal distribution(black line)\n",
        "plt.figure(figsize=(10, 4))\n",
        "sns.set_style('darkgrid')\n",
        "sns.distplot(raw_data.vote_average,fit=scipy.stats.norm, kde=True)\n",
        "plt.show()"
      ],
      "execution_count": 18,
      "outputs": [
        {
          "output_type": "display_data",
          "data": {
            "image/png": "[encoded data removed]",
            "text/plain": [
              "<Figure size 720x288 with 1 Axes>"
            ]
          },
          "metadata": {
            "tags": []
          }
        }
      ]
    },
    {
      "cell_type": "code",
      "metadata": {
        "id": "e1Gvb_m4uevH",
        "colab_type": "code",
        "outputId": "dc02dd2a-e40c-4665-93fe-afa4c13f3dbb",
        "colab": {
          "base_uri": "https://localhost:8080/",
          "height": 279
        }
      },
      "source": [
        "# Plot the histgram of duration\n",
        "plt.figure(figsize=(10, 4))\n",
        "sns.set_style('darkgrid')\n",
        "sns.distplot(raw_data.duration, kde=True)\n",
        "plt.show()"
      ],
      "execution_count": 19,
      "outputs": [
        {
          "output_type": "display_data",
          "data": {
            "image/png": "[encoded data removed]",
            "text/plain": [
              "<Figure size 720x288 with 1 Axes>"
            ]
          },
          "metadata": {
            "tags": []
          }
        }
      ]
    },
    {
      "cell_type": "code",
      "metadata": {
        "id": "1r1lgwFk75EY",
        "colab_type": "code",
        "outputId": "67a1c8e3-fb02-4623-8d1a-cff306c51976",
        "colab": {
          "base_uri": "https://localhost:8080/",
          "height": 50
        }
      },
      "source": [
        "# Based on common sence, duration of a movie is between 90-120 mins, duration < 10 or duration > 300 is unlikely possible\n",
        "# Drop rows in dataset of which duration > 10 and duration < 300\n",
        "before_rows = len(raw_data)\n",
        "raw_data = raw_data[10 < raw_data['duration']]\n",
        "raw_data = raw_data[raw_data['duration'] < 300]\n",
        "print('Delete {} rows;\\nCurrent Total rows: {}'.format(before_rows-len(raw_data), len(raw_data)))"
      ],
      "execution_count": 20,
      "outputs": [
        {
          "output_type": "stream",
          "text": [
            "Delete 2604 rows;\n",
            "Current Total rows: 35553\n"
          ],
          "name": "stdout"
        }
      ]
    },
    {
      "cell_type": "code",
      "metadata": {
        "id": "-6ZUR32I1wEY",
        "colab_type": "code",
        "outputId": "2a6d5b1e-2e23-4fb4-9799-256783922f4d",
        "colab": {
          "base_uri": "https://localhost:8080/",
          "height": 279
        }
      },
      "source": [
        "# After dropping outliers, the distribution of vote average(blue line) is more like normal distribution(black line)\n",
        "plt.figure(figsize=(10, 4))\n",
        "sns.set_style('darkgrid')\n",
        "sns.distplot(raw_data.duration,fit=scipy.stats.norm, kde=True)\n",
        "plt.show()"
      ],
      "execution_count": 21,
      "outputs": [
        {
          "output_type": "display_data",
          "data": {
            "image/png": "[encoded data removed]",
            "text/plain": [
              "<Figure size 720x288 with 1 Axes>"
            ]
          },
          "metadata": {
            "tags": []
          }
        }
      ]
    },
    {
      "cell_type": "code",
      "metadata": {
        "id": "ocpFbVWODF3r",
        "colab_type": "code",
        "outputId": "1a90b4d3-d12a-422c-e853-233a8c9f880e",
        "colab": {
          "base_uri": "https://localhost:8080/",
          "height": 218
        }
      },
      "source": [
        "missing_value_table(raw_data)"
      ],
      "execution_count": 22,
      "outputs": [
        {
          "output_type": "stream",
          "text": [
            "=====Missing Value Check Table(only list not 0% column)=====\n",
            "               total Missing  Percent(%)\n",
            "companies_3            28037       78.86\n",
            "actor_3_name           22693       63.83\n",
            "actor_2_name           22547       63.42\n",
            "director_name          22325       62.79\n",
            "actor_1_name           22214       62.48\n",
            "companies_2            21786       61.28\n",
            "companies_1            10498       29.53\n",
            "country                 4629       13.02\n",
            "language                2349        6.61\n",
            "overview                 522        1.47\n"
          ],
          "name": "stdout"
        }
      ]
    },
    {
      "cell_type": "markdown",
      "metadata": {
        "id": "klKeD8Od8SL4",
        "colab_type": "text"
      },
      "source": [
        "### 4 Data Wrangling: Define a movie is successful or unsuccessful and edit features\n",
        "*   Define Label\n",
        "*   Budget\n",
        "*   Release Year\n",
        "*   Duration\n",
        "*   Genres\n",
        "*   Director\n",
        "*   Company"
      ]
    },
    {
      "cell_type": "markdown",
      "metadata": {
        "id": "s3U2hbA0HFi3",
        "colab_type": "text"
      },
      "source": [
        "#### 4.1 Define Label"
      ]
    },
    {
      "cell_type": "code",
      "metadata": {
        "id": "-gtoSahN9syZ",
        "colab_type": "code",
        "outputId": "20da952c-990c-451a-da7e-ae1c5b884397",
        "colab": {
          "base_uri": "https://localhost:8080/",
          "height": 134
        }
      },
      "source": [
        "# Total columns fot dataset\n",
        "raw_data.columns"
      ],
      "execution_count": 23,
      "outputs": [
        {
          "output_type": "execute_result",
          "data": {
            "text/plain": [
              "Index(['budget', 'genres', 'id', 'plot_keywords', 'language', 'original_title',\n",
              "       'overview', 'production_companies', 'production_countries',\n",
              "       'release_date', 'box_office', 'duration', 'spoken_languages', 'status',\n",
              "       'movie_title', 'vote_average', 'release_year', 'release_month',\n",
              "       'country', 'director_name', 'actor_1_name', 'actor_2_name',\n",
              "       'actor_3_name', 'companies_1', 'companies_2', 'companies_3'],\n",
              "      dtype='object')"
            ]
          },
          "metadata": {
            "tags": []
          },
          "execution_count": 23
        }
      ]
    },
    {
      "cell_type": "code",
      "metadata": {
        "id": "3JXIP3Kq7oD9",
        "colab_type": "code",
        "outputId": "a7db03ae-3605-4d3f-f272-2ddd0bd45950",
        "colab": {
          "base_uri": "https://localhost:8080/",
          "height": 373
        }
      },
      "source": [
        "raw_data.budget = raw_data.budget.astype(float)\n",
        "raw_data.describe(percentiles=[.10,.25,.5,.75,.9,.99])"
      ],
      "execution_count": 24,
      "outputs": [
        {
          "output_type": "execute_result",
          "data": {
            "text/html": [
              "<div>\n",
              "<style scoped>\n",
              "    .dataframe tbody tr th:only-of-type {\n",
              "        vertical-align: middle;\n",
              "    }\n",
              "\n",
              "    .dataframe tbody tr th {\n",
              "        vertical-align: top;\n",
              "    }\n",
              "\n",
              "    .dataframe thead th {\n",
              "        text-align: right;\n",
              "    }\n",
              "</style>\n",
              "<table border=\"1\" class=\"dataframe\">\n",
              "  <thead>\n",
              "    <tr style=\"text-align: right;\">\n",
              "      <th></th>\n",
              "      <th>budget</th>\n",
              "      <th>box_office</th>\n",
              "      <th>duration</th>\n",
              "      <th>vote_average</th>\n",
              "      <th>release_year</th>\n",
              "      <th>release_month</th>\n",
              "    </tr>\n",
              "  </thead>\n",
              "  <tbody>\n",
              "    <tr>\n",
              "      <th>count</th>\n",
              "      <td>3.555300e+04</td>\n",
              "      <td>3.555300e+04</td>\n",
              "      <td>35553.000000</td>\n",
              "      <td>35553.000000</td>\n",
              "      <td>35553.000000</td>\n",
              "      <td>35553.000000</td>\n",
              "    </tr>\n",
              "    <tr>\n",
              "      <th>mean</th>\n",
              "      <td>4.276101e+06</td>\n",
              "      <td>1.092765e+07</td>\n",
              "      <td>98.032346</td>\n",
              "      <td>5.912713</td>\n",
              "      <td>1998.542008</td>\n",
              "      <td>6.291733</td>\n",
              "    </tr>\n",
              "    <tr>\n",
              "      <th>std</th>\n",
              "      <td>1.688069e+07</td>\n",
              "      <td>6.008564e+07</td>\n",
              "      <td>26.437635</td>\n",
              "      <td>1.369054</td>\n",
              "      <td>11.226147</td>\n",
              "      <td>3.701844</td>\n",
              "    </tr>\n",
              "    <tr>\n",
              "      <th>min</th>\n",
              "      <td>0.000000e+00</td>\n",
              "      <td>0.000000e+00</td>\n",
              "      <td>11.000000</td>\n",
              "      <td>0.500000</td>\n",
              "      <td>1970.000000</td>\n",
              "      <td>1.000000</td>\n",
              "    </tr>\n",
              "    <tr>\n",
              "      <th>10%</th>\n",
              "      <td>0.000000e+00</td>\n",
              "      <td>0.000000e+00</td>\n",
              "      <td>75.000000</td>\n",
              "      <td>4.100000</td>\n",
              "      <td>1980.000000</td>\n",
              "      <td>1.000000</td>\n",
              "    </tr>\n",
              "    <tr>\n",
              "      <th>25%</th>\n",
              "      <td>0.000000e+00</td>\n",
              "      <td>0.000000e+00</td>\n",
              "      <td>87.000000</td>\n",
              "      <td>5.200000</td>\n",
              "      <td>1992.000000</td>\n",
              "      <td>3.000000</td>\n",
              "    </tr>\n",
              "    <tr>\n",
              "      <th>50%</th>\n",
              "      <td>0.000000e+00</td>\n",
              "      <td>0.000000e+00</td>\n",
              "      <td>95.000000</td>\n",
              "      <td>6.000000</td>\n",
              "      <td>2003.000000</td>\n",
              "      <td>6.000000</td>\n",
              "    </tr>\n",
              "    <tr>\n",
              "      <th>75%</th>\n",
              "      <td>0.000000e+00</td>\n",
              "      <td>0.000000e+00</td>\n",
              "      <td>107.000000</td>\n",
              "      <td>6.800000</td>\n",
              "      <td>2007.000000</td>\n",
              "      <td>10.000000</td>\n",
              "    </tr>\n",
              "    <tr>\n",
              "      <th>90%</th>\n",
              "      <td>9.000000e+06</td>\n",
              "      <td>1.052400e+07</td>\n",
              "      <td>125.000000</td>\n",
              "      <td>7.400000</td>\n",
              "      <td>2010.000000</td>\n",
              "      <td>11.000000</td>\n",
              "    </tr>\n",
              "    <tr>\n",
              "      <th>99%</th>\n",
              "      <td>8.448000e+07</td>\n",
              "      <td>2.609950e+08</td>\n",
              "      <td>182.000000</td>\n",
              "      <td>9.000000</td>\n",
              "      <td>2011.000000</td>\n",
              "      <td>12.000000</td>\n",
              "    </tr>\n",
              "    <tr>\n",
              "      <th>max</th>\n",
              "      <td>3.800000e+08</td>\n",
              "      <td>2.787965e+09</td>\n",
              "      <td>298.000000</td>\n",
              "      <td>10.000000</td>\n",
              "      <td>2020.000000</td>\n",
              "      <td>12.000000</td>\n",
              "    </tr>\n",
              "  </tbody>\n",
              "</table>\n",
              "</div>"
            ],
            "text/plain": [
              "             budget    box_office  ...  release_year  release_month\n",
              "count  3.555300e+04  3.555300e+04  ...  35553.000000   35553.000000\n",
              "mean   4.276101e+06  1.092765e+07  ...   1998.542008       6.291733\n",
              "std    1.688069e+07  6.008564e+07  ...     11.226147       3.701844\n",
              "min    0.000000e+00  0.000000e+00  ...   1970.000000       1.000000\n",
              "10%    0.000000e+00  0.000000e+00  ...   1980.000000       1.000000\n",
              "25%    0.000000e+00  0.000000e+00  ...   1992.000000       3.000000\n",
              "50%    0.000000e+00  0.000000e+00  ...   2003.000000       6.000000\n",
              "75%    0.000000e+00  0.000000e+00  ...   2007.000000      10.000000\n",
              "90%    9.000000e+06  1.052400e+07  ...   2010.000000      11.000000\n",
              "99%    8.448000e+07  2.609950e+08  ...   2011.000000      12.000000\n",
              "max    3.800000e+08  2.787965e+09  ...   2020.000000      12.000000\n",
              "\n",
              "[11 rows x 6 columns]"
            ]
          },
          "metadata": {
            "tags": []
          },
          "execution_count": 24
        }
      ]
    },
    {
      "cell_type": "markdown",
      "metadata": {
        "id": "pEeU--BJysHo",
        "colab_type": "text"
      },
      "source": [
        "Based on our [research](https://io9.gizmodo.com/how-much-money-does-a-movie-need-to-make-to-be-profitab-5747305), we assume that the box office of a profitable movie is two times more than its budget.\n",
        "\n",
        "For this project, a successful movie get vote_score more than mean of vote_score of all movies and also win box office two times more than its budget."
      ]
    },
    {
      "cell_type": "code",
      "metadata": {
        "id": "eFw-EyHxzTru",
        "colab_type": "code",
        "colab": {}
      },
      "source": [
        "vote_score_mean = raw_data['vote_average'].mean()\n",
        "raw_data['box/budget'] = raw_data['box_office']/raw_data['budget']\n",
        "raw_data['success'] = raw_data['vote_average'].map(lambda s :1  if s > vote_score_mean else 0)\n",
        "raw_data['success'] = raw_data['box/budget'].map(lambda s :1  if s > 2 else 0)"
      ],
      "execution_count": 0,
      "outputs": []
    },
    {
      "cell_type": "code",
      "metadata": {
        "id": "3YaFV3Ba9s7K",
        "colab_type": "code",
        "outputId": "8651f015-cb2d-4f2c-a9da-0499805eea7e",
        "colab": {
          "base_uri": "https://localhost:8080/",
          "height": 303
        }
      },
      "source": [
        "# Data to plot\n",
        "plt.figure(figsize=(5,5))\n",
        "labels = [\"Unsuccess\",\"Success\"]\n",
        "sizes = raw_data['success'].value_counts(sort=False)\n",
        "explode = (0.1,0)  # explode 1st slice\n",
        "# Plot\n",
        "plt.pie(sizes, explode=explode, labels=labels, autopct='%1.1f%%', shadow=True, startangle=140)\n",
        "plt.axis('equal')\n",
        "plt.show()"
      ],
      "execution_count": 26,
      "outputs": [
        {
          "output_type": "display_data",
          "data": {
            "image/png": "[encoded data removed]",
            "text/plain": [
              "<Figure size 360x360 with 1 Axes>"
            ]
          },
          "metadata": {
            "tags": []
          }
        }
      ]
    },
    {
      "cell_type": "code",
      "metadata": {
        "id": "ueZSVTZ9tHjA",
        "colab_type": "code",
        "colab": {}
      },
      "source": [
        "# Drop 'gross','box/budget' after define the success of each movie\n",
        "raw_data.drop(['box/budget', 'box_office'], axis=1, inplace=True)"
      ],
      "execution_count": 0,
      "outputs": []
    },
    {
      "cell_type": "markdown",
      "metadata": {
        "id": "_rQJlv0hHdQM",
        "colab_type": "text"
      },
      "source": [
        "#### 4.2 Budget"
      ]
    },
    {
      "cell_type": "code",
      "metadata": {
        "id": "n636RM9nXlLe",
        "colab_type": "code",
        "colab": {}
      },
      "source": [
        "raw_data.budget=raw_data.budget.astype(int)"
      ],
      "execution_count": 0,
      "outputs": []
    },
    {
      "cell_type": "code",
      "metadata": {
        "id": "7ERdEFLeOUKw",
        "colab_type": "code",
        "outputId": "b55e7938-fc82-4821-d896-f12df44f26fe",
        "colab": {
          "base_uri": "https://localhost:8080/",
          "height": 290
        }
      },
      "source": [
        "# budget distibution\n",
        "g = sns.kdeplot(raw_data.budget[(raw_data[\"success\"] == 0) ], shade = True)\n",
        "g = sns.kdeplot(raw_data.budget[(raw_data[\"success\"] == 1) ], shade= True)\n",
        "g.set_xlabel(\"budget\")\n",
        "g.set_ylabel(\"Frequency\")\n",
        "g = g.legend([\"Unsuccess\",\"Success\"])"
      ],
      "execution_count": 29,
      "outputs": [
        {
          "output_type": "display_data",
          "data": {
            "image/png": "[encoded data removed]",
            "text/plain": [
              "<Figure size 432x288 with 1 Axes>"
            ]
          },
          "metadata": {
            "tags": []
          }
        }
      ]
    },
    {
      "cell_type": "code",
      "metadata": {
        "id": "YLyT46DbHfzo",
        "colab_type": "code",
        "outputId": "732af95b-0bb0-49eb-8553-67271184e7a4",
        "colab": {
          "base_uri": "https://localhost:8080/",
          "height": 290
        }
      },
      "source": [
        "# Non-zero budget distibution\n",
        "g = sns.kdeplot(raw_data.budget[raw_data.budget>0][(raw_data[\"success\"] == 0)], shade = True)\n",
        "g = sns.kdeplot(raw_data.budget[raw_data.budget>0][(raw_data[\"success\"] == 1)], shade= True)\n",
        "g.set_xlabel(\"budget\")\n",
        "g.set_ylabel(\"Frequency\")\n",
        "g = g.legend([\"Unsuccess\",\"Success\"])"
      ],
      "execution_count": 30,
      "outputs": [
        {
          "output_type": "display_data",
          "data": {
            "image/png": "[encoded data removed]",
            "text/plain": [
              "<Figure size 432x288 with 1 Axes>"
            ]
          },
          "metadata": {
            "tags": []
          }
        }
      ]
    },
    {
      "cell_type": "code",
      "metadata": {
        "id": "2be0y2gluMWt",
        "colab_type": "code",
        "outputId": "0bc4ebf7-c2d2-47a9-8763-08a7de29bba9",
        "colab": {
          "base_uri": "https://localhost:8080/",
          "height": 34
        }
      },
      "source": [
        "print(\"Percent of zero budget: {}%\".format(round((raw_data.budget==0).sum()/len(raw_data)*100, 2)))"
      ],
      "execution_count": 31,
      "outputs": [
        {
          "output_type": "stream",
          "text": [
            "Percent of zero budget: 79.44%\n"
          ],
          "name": "stdout"
        }
      ]
    },
    {
      "cell_type": "code",
      "metadata": {
        "id": "BS4OKDrjt5zd",
        "colab_type": "code",
        "outputId": "53bba3e6-d6dd-4f75-ad4d-6938c263cf4a",
        "colab": {
          "base_uri": "https://localhost:8080/",
          "height": 50
        }
      },
      "source": [
        "# Based on common sence, no moive can be made with zero budget. So drop rows with zero budget\n",
        "before_rows = len(raw_data)\n",
        "raw_data = raw_data[raw_data.budget!=0]\n",
        "print('Delete {} rows;\\nCurrent rows: {}'.format(before_rows-len(raw_data), len(raw_data)))"
      ],
      "execution_count": 32,
      "outputs": [
        {
          "output_type": "stream",
          "text": [
            "Delete 28243 rows;\n",
            "Current rows: 7310\n"
          ],
          "name": "stdout"
        }
      ]
    },
    {
      "cell_type": "code",
      "metadata": {
        "id": "7wu7kFHDJlyo",
        "colab_type": "code",
        "colab": {}
      },
      "source": [
        "# The Q1,Q2(median),Q3,95% of budget of non-zero movies\n",
        "non_zero_budget_Q1 = raw_data.budget[raw_data.budget>0].quantile(0.25)\n",
        "non_zero_budget_median = raw_data.budget[raw_data.budget>0].quantile(0.5)\n",
        "non_zero_budget_Q3 = raw_data.budget[raw_data.budget>0].quantile(0.75)\n",
        "non_zero_budget_95 = raw_data.budget[raw_data.budget>0].quantile(0.95)"
      ],
      "execution_count": 0,
      "outputs": []
    },
    {
      "cell_type": "code",
      "metadata": {
        "id": "fIQpIISWHf5X",
        "colab_type": "code",
        "colab": {}
      },
      "source": [
        "'''\n",
        "Create new feature of budget\n",
        "0 < Budget < Q1 => VeryLowBudget\n",
        "Q1 <= Budget < Median =>LowBudget\n",
        "Median <= Budget < Q3 => MedBudget\n",
        "Q3 <= Budget < 95% => HighBudget\n",
        "95% <= Budget => VeryHighBudget\n",
        "'''\n",
        "raw_data['VeryLowBudget'] = raw_data['budget'].map(lambda s: 1 if 0< s < non_zero_budget_Q1 else 0)\n",
        "raw_data['LowBudget'] = raw_data['budget'].map(lambda s: 1 if non_zero_budget_Q1 <= s < non_zero_budget_median else 0)\n",
        "raw_data['MedBudget'] = raw_data['budget'].map(lambda s: 1 if  non_zero_budget_median <= s < non_zero_budget_Q3 else 0)\n",
        "raw_data['HighBudget'] = raw_data['budget'].map(lambda s: 1 if non_zero_budget_Q3 <= s < non_zero_budget_95 else 0)\n",
        "raw_data['VeryHighBudget'] = raw_data['budget'].map(lambda s: 1 if s >= non_zero_budget_95 else 0)"
      ],
      "execution_count": 0,
      "outputs": []
    },
    {
      "cell_type": "markdown",
      "metadata": {
        "id": "t1FzuecTQ0rD",
        "colab_type": "text"
      },
      "source": [
        "#### 4.3 Release Year"
      ]
    },
    {
      "cell_type": "code",
      "metadata": {
        "id": "JQC5CHePRX_E",
        "colab_type": "code",
        "outputId": "f3c2a21a-fe81-410c-a78d-8e9ee690bc44",
        "colab": {
          "base_uri": "https://localhost:8080/",
          "height": 369
        }
      },
      "source": [
        "# Release Year Distribution\n",
        "g = sns.factorplot(y=\"release_year\",x=\"success\",data=raw_data,kind=\"violin\", palette = \"Set2\")"
      ],
      "execution_count": 35,
      "outputs": [
        {
          "output_type": "display_data",
          "data": {
            "image/png": "[encoded data removed]",
            "text/plain": [
              "<Figure size 360x360 with 1 Axes>"
            ]
          },
          "metadata": {
            "tags": []
          }
        }
      ]
    },
    {
      "cell_type": "code",
      "metadata": {
        "id": "tcaFlxsER3WS",
        "colab_type": "code",
        "outputId": "696a934e-fd80-4572-c7ee-475d84fc5e26",
        "colab": {
          "base_uri": "https://localhost:8080/",
          "height": 369
        }
      },
      "source": [
        "# Release Month Distribution\n",
        "g = sns.factorplot(y=\"release_month\",x=\"success\",data=raw_data,kind=\"violin\", palette = \"Set2\")"
      ],
      "execution_count": 36,
      "outputs": [
        {
          "output_type": "display_data",
          "data": {
            "image/png": "[encoded data removed]",
            "text/plain": [
              "<Figure size 360x360 with 1 Axes>"
            ]
          },
          "metadata": {
            "tags": []
          }
        }
      ]
    },
    {
      "cell_type": "markdown",
      "metadata": {
        "id": "HFsJRX1OQ5Z7",
        "colab_type": "text"
      },
      "source": [
        "#### 4.4 Duration"
      ]
    },
    {
      "cell_type": "code",
      "metadata": {
        "id": "erpUsnNuRylJ",
        "colab_type": "code",
        "outputId": "47d78626-64ba-4567-d3e6-0263d09d013d",
        "colab": {
          "base_uri": "https://localhost:8080/",
          "height": 279
        }
      },
      "source": [
        "# duration distribution show success or unsuccess movies are all normal distributed\n",
        "g = sns.kdeplot(raw_data.duration[(raw_data[\"success\"] == 0) ], color=\"blueviolet\", shade = True)\n",
        "g = sns.kdeplot(raw_data.duration[(raw_data[\"success\"] == 1) ], ax =g, color=\"gold\", shade= True)\n",
        "g.set_xlabel(\"Duration\")\n",
        "g.set_ylabel(\"Frequency\")\n",
        "g = g.legend([\"Unsuccess\",\"Success\"])"
      ],
      "execution_count": 37,
      "outputs": [
        {
          "output_type": "display_data",
          "data": {
            "image/png": "[encoded data removed]",
            "text/plain": [
              "<Figure size 432x288 with 1 Axes>"
            ]
          },
          "metadata": {
            "tags": []
          }
        }
      ]
    },
    {
      "cell_type": "code",
      "metadata": {
        "id": "KXWKrMThRyoR",
        "colab_type": "code",
        "outputId": "cefcbc2d-c581-4802-dbf7-7e665ac73f77",
        "colab": {
          "base_uri": "https://localhost:8080/",
          "height": 369
        }
      },
      "source": [
        "# duration distribution by success\n",
        "g = sns.factorplot(x=\"success\", y = \"duration\",data = raw_data, kind=\"box\", palette = \"Set3\")"
      ],
      "execution_count": 38,
      "outputs": [
        {
          "output_type": "display_data",
          "data": {
            "image/png": "[encoded data removed]",
            "text/plain": [
              "<Figure size 360x360 with 1 Axes>"
            ]
          },
          "metadata": {
            "tags": []
          }
        }
      ]
    },
    {
      "cell_type": "code",
      "metadata": {
        "id": "vWp7MsugTrAW",
        "colab_type": "code",
        "colab": {}
      },
      "source": [
        "'''\n",
        "Based on common sence\n",
        "duration <90          => Short Movie\n",
        "90 <= duration < 120  => Normal Movie\n",
        "120 <= duration       => Long Movie\n",
        "'''\n",
        "raw_data['ShortMovie'] = raw_data['duration'].map(lambda s: 1 if s < 90 else 0)\n",
        "raw_data['NormalMovie'] = raw_data['duration'].map(lambda s: 1 if 90 <= s < 120 else 0)\n",
        "raw_data['LongMovie'] = raw_data['duration'].map(lambda s: 1 if s >= 120 else 0)"
      ],
      "execution_count": 0,
      "outputs": []
    },
    {
      "cell_type": "markdown",
      "metadata": {
        "id": "VCSsxNDQQ5nm",
        "colab_type": "text"
      },
      "source": [
        "#### 4.5 Genres\n",
        "Since a movie may have multiple genres, we will use one-hot encoding to transform the column of Genres"
      ]
    },
    {
      "cell_type": "code",
      "metadata": {
        "id": "kQqHDwm3TrGJ",
        "colab_type": "code",
        "outputId": "add100ea-ddc2-49f0-8215-47f790651436",
        "colab": {
          "base_uri": "https://localhost:8080/",
          "height": 118
        }
      },
      "source": [
        "raw_data.genres.head()"
      ],
      "execution_count": 40,
      "outputs": [
        {
          "output_type": "execute_result",
          "data": {
            "text/plain": [
              "8                         Crime|Comedy\n",
              "9                Action|Thriller|Crime\n",
              "10                         Documentary\n",
              "12    Adventure|Action|Science Fiction\n",
              "13                    Animation|Family\n",
              "Name: genres, dtype: object"
            ]
          },
          "metadata": {
            "tags": []
          },
          "execution_count": 40
        }
      ]
    },
    {
      "cell_type": "code",
      "metadata": {
        "id": "jJWsTRTSJbaT",
        "colab_type": "code",
        "colab": {}
      },
      "source": [
        "def Obtain_list_Occurences(data, column):\n",
        "    # Obtaining list of column\n",
        "    listOcc = []\n",
        "    for i in data[column]:\n",
        "        split_genre = list(map(str, i.split('|')))\n",
        "        for j in split_genre:\n",
        "            if j not in listOcc:\n",
        "                listOcc.append(j)\n",
        "    return listOcc"
      ],
      "execution_count": 0,
      "outputs": []
    },
    {
      "cell_type": "code",
      "metadata": {
        "id": "I8C-terkK7t8",
        "colab_type": "code",
        "colab": {}
      },
      "source": [
        "genre = []\n",
        "genre = Obtain_list_Occurences(raw_data, \"genres\")\n",
        "# Drop empty string\n",
        "genre = list(filter(lambda x:len(x)>0, genre))"
      ],
      "execution_count": 0,
      "outputs": []
    },
    {
      "cell_type": "code",
      "metadata": {
        "id": "gUe19Y9sK7y7",
        "colab_type": "code",
        "colab": {}
      },
      "source": [
        "# Encoding genre\n",
        "for w in genre:\n",
        "    raw_data[w] = raw_data['genres'].map(lambda s: 1 if w in str(s) else 0)"
      ],
      "execution_count": 0,
      "outputs": []
    },
    {
      "cell_type": "code",
      "metadata": {
        "id": "8qus13hZK71i",
        "colab_type": "code",
        "outputId": "f4e897aa-e7f2-4eca-9d24-a72f51051707",
        "colab": {
          "base_uri": "https://localhost:8080/",
          "height": 195
        }
      },
      "source": [
        "raw_data.loc[:,genre].head()"
      ],
      "execution_count": 44,
      "outputs": [
        {
          "output_type": "execute_result",
          "data": {
            "text/html": [
              "<div>\n",
              "<style scoped>\n",
              "    .dataframe tbody tr th:only-of-type {\n",
              "        vertical-align: middle;\n",
              "    }\n",
              "\n",
              "    .dataframe tbody tr th {\n",
              "        vertical-align: top;\n",
              "    }\n",
              "\n",
              "    .dataframe thead th {\n",
              "        text-align: right;\n",
              "    }\n",
              "</style>\n",
              "<table border=\"1\" class=\"dataframe\">\n",
              "  <thead>\n",
              "    <tr style=\"text-align: right;\">\n",
              "      <th></th>\n",
              "      <th>Crime</th>\n",
              "      <th>Comedy</th>\n",
              "      <th>Action</th>\n",
              "      <th>Thriller</th>\n",
              "      <th>Documentary</th>\n",
              "      <th>Adventure</th>\n",
              "      <th>Science Fiction</th>\n",
              "      <th>Animation</th>\n",
              "      <th>Family</th>\n",
              "      <th>Drama</th>\n",
              "      <th>Romance</th>\n",
              "      <th>Fantasy</th>\n",
              "      <th>War</th>\n",
              "      <th>Music</th>\n",
              "      <th>Western</th>\n",
              "      <th>Mystery</th>\n",
              "      <th>History</th>\n",
              "      <th>Horror</th>\n",
              "      <th>TV Movie</th>\n",
              "    </tr>\n",
              "  </thead>\n",
              "  <tbody>\n",
              "    <tr>\n",
              "      <th>8</th>\n",
              "      <td>1</td>\n",
              "      <td>1</td>\n",
              "      <td>0</td>\n",
              "      <td>0</td>\n",
              "      <td>0</td>\n",
              "      <td>0</td>\n",
              "      <td>0</td>\n",
              "      <td>0</td>\n",
              "      <td>0</td>\n",
              "      <td>0</td>\n",
              "      <td>0</td>\n",
              "      <td>0</td>\n",
              "      <td>0</td>\n",
              "      <td>0</td>\n",
              "      <td>0</td>\n",
              "      <td>0</td>\n",
              "      <td>0</td>\n",
              "      <td>0</td>\n",
              "      <td>0</td>\n",
              "    </tr>\n",
              "    <tr>\n",
              "      <th>9</th>\n",
              "      <td>1</td>\n",
              "      <td>0</td>\n",
              "      <td>1</td>\n",
              "      <td>1</td>\n",
              "      <td>0</td>\n",
              "      <td>0</td>\n",
              "      <td>0</td>\n",
              "      <td>0</td>\n",
              "      <td>0</td>\n",
              "      <td>0</td>\n",
              "      <td>0</td>\n",
              "      <td>0</td>\n",
              "      <td>0</td>\n",
              "      <td>0</td>\n",
              "      <td>0</td>\n",
              "      <td>0</td>\n",
              "      <td>0</td>\n",
              "      <td>0</td>\n",
              "      <td>0</td>\n",
              "    </tr>\n",
              "    <tr>\n",
              "      <th>10</th>\n",
              "      <td>0</td>\n",
              "      <td>0</td>\n",
              "      <td>0</td>\n",
              "      <td>0</td>\n",
              "      <td>1</td>\n",
              "      <td>0</td>\n",
              "      <td>0</td>\n",
              "      <td>0</td>\n",
              "      <td>0</td>\n",
              "      <td>0</td>\n",
              "      <td>0</td>\n",
              "      <td>0</td>\n",
              "      <td>0</td>\n",
              "      <td>0</td>\n",
              "      <td>0</td>\n",
              "      <td>0</td>\n",
              "      <td>0</td>\n",
              "      <td>0</td>\n",
              "      <td>0</td>\n",
              "    </tr>\n",
              "    <tr>\n",
              "      <th>12</th>\n",
              "      <td>0</td>\n",
              "      <td>0</td>\n",
              "      <td>1</td>\n",
              "      <td>0</td>\n",
              "      <td>0</td>\n",
              "      <td>1</td>\n",
              "      <td>1</td>\n",
              "      <td>0</td>\n",
              "      <td>0</td>\n",
              "      <td>0</td>\n",
              "      <td>0</td>\n",
              "      <td>0</td>\n",
              "      <td>0</td>\n",
              "      <td>0</td>\n",
              "      <td>0</td>\n",
              "      <td>0</td>\n",
              "      <td>0</td>\n",
              "      <td>0</td>\n",
              "      <td>0</td>\n",
              "    </tr>\n",
              "    <tr>\n",
              "      <th>13</th>\n",
              "      <td>0</td>\n",
              "      <td>0</td>\n",
              "      <td>0</td>\n",
              "      <td>0</td>\n",
              "      <td>0</td>\n",
              "      <td>0</td>\n",
              "      <td>0</td>\n",
              "      <td>1</td>\n",
              "      <td>1</td>\n",
              "      <td>0</td>\n",
              "      <td>0</td>\n",
              "      <td>0</td>\n",
              "      <td>0</td>\n",
              "      <td>0</td>\n",
              "      <td>0</td>\n",
              "      <td>0</td>\n",
              "      <td>0</td>\n",
              "      <td>0</td>\n",
              "      <td>0</td>\n",
              "    </tr>\n",
              "  </tbody>\n",
              "</table>\n",
              "</div>"
            ],
            "text/plain": [
              "    Crime  Comedy  Action  Thriller  ...  Mystery  History  Horror  TV Movie\n",
              "8       1       1       0         0  ...        0        0       0         0\n",
              "9       1       0       1         1  ...        0        0       0         0\n",
              "10      0       0       0         0  ...        0        0       0         0\n",
              "12      0       0       1         0  ...        0        0       0         0\n",
              "13      0       0       0         0  ...        0        0       0         0\n",
              "\n",
              "[5 rows x 19 columns]"
            ]
          },
          "metadata": {
            "tags": []
          },
          "execution_count": 44
        }
      ]
    },
    {
      "cell_type": "markdown",
      "metadata": {
        "id": "VgbZdsm8Q5yJ",
        "colab_type": "text"
      },
      "source": [
        "#### 4.6 Director"
      ]
    },
    {
      "cell_type": "code",
      "metadata": {
        "id": "u42tA4AKPDmi",
        "colab_type": "code",
        "colab": {}
      },
      "source": [
        "raw_data.director_name.fillna('unknown', inplace=True)"
      ],
      "execution_count": 0,
      "outputs": []
    },
    {
      "cell_type": "code",
      "metadata": {
        "id": "GVzBBe5fPDpn",
        "colab_type": "code",
        "colab": {}
      },
      "source": [
        "def to_frequency_table(data):\n",
        "    frequency = {}\n",
        "    for key in data:\n",
        "        if key in frequency and key:\n",
        "            frequency[key] += 1\n",
        "        else:\n",
        "            frequency[key] = 1\n",
        "    return frequency"
      ],
      "execution_count": 0,
      "outputs": []
    },
    {
      "cell_type": "code",
      "metadata": {
        "id": "YukH2NCXPDsx",
        "colab_type": "code",
        "colab": {}
      },
      "source": [
        "director_dic = to_frequency_table(raw_data['director_name'])\n",
        "director_list = list(director_dic.items())\n",
        "director_list.sort(key=lambda tup:tup[1],reverse=True)\n",
        "# drop 'unknown' item\n",
        "director_list=list(filter(lambda x:x[0]!='unknown', director_list))"
      ],
      "execution_count": 0,
      "outputs": []
    },
    {
      "cell_type": "code",
      "metadata": {
        "id": "2VjJt1aAP6eH",
        "colab_type": "code",
        "colab": {}
      },
      "source": [
        "# Funtion to find top xx in list\n",
        "def Top(List, top_num):\n",
        "    Top = list()\n",
        "    for i in range(0, top_num):\n",
        "        Top.append(List[i][0])\n",
        "    return Top"
      ],
      "execution_count": 0,
      "outputs": []
    },
    {
      "cell_type": "code",
      "metadata": {
        "id": "2zbARf_BPDvj",
        "colab_type": "code",
        "outputId": "fc4a0a86-2832-420c-b5f2-966c91269221",
        "colab": {
          "base_uri": "https://localhost:8080/",
          "height": 67
        }
      },
      "source": [
        "# Encoding Top 100 director\n",
        "top_list = Top(director_list, 100)\n",
        "for w in top_list:\n",
        "    raw_data[w] = raw_data['director_name'].map(lambda s: 1 if w in str(s) else 0)\n",
        "# Encoding non-Top 50 director in 'other_director' columns\n",
        "raw_data['other_director'] = raw_data['director_name'].map(lambda x:1 if x not in top_list else 0)\n",
        "print(\"Total movies of top directors: {};\\nTotal movies of non-top directors: {};\\nTotal movies: {}.\".format(raw_data[top_list].sum().sum(), raw_data.other_director.sum(), len(raw_data)))"
      ],
      "execution_count": 49,
      "outputs": [
        {
          "output_type": "stream",
          "text": [
            "Total movies of top directors: 1008;\n",
            "Total movies of non-top directors: 6302;\n",
            "Total movies: 7310.\n"
          ],
          "name": "stdout"
        }
      ]
    },
    {
      "cell_type": "markdown",
      "metadata": {
        "id": "lurrrSJhRTsI",
        "colab_type": "text"
      },
      "source": [
        "#### 4.7 Company"
      ]
    },
    {
      "cell_type": "code",
      "metadata": {
        "id": "ZhGRftGVvGcW",
        "colab_type": "code",
        "colab": {}
      },
      "source": [
        "# Fill none value in 3 actor columns\n",
        "raw_data['companies_1'].fillna('unknown',inplace=True)\n",
        "raw_data['companies_2'].fillna('unknown',inplace=True)\n",
        "raw_data['companies_3'].fillna('unknown',inplace=True)"
      ],
      "execution_count": 0,
      "outputs": []
    },
    {
      "cell_type": "code",
      "metadata": {
        "id": "jcU20nD35BYY",
        "colab_type": "code",
        "colab": {}
      },
      "source": [
        "company_dic = to_frequency_table(raw_data['companies_1'])\n",
        "company_list = list(company_dic.items())\n",
        "company_list.sort(key=lambda tup:tup[1],reverse=True)\n",
        "# drop 'unknown' item\n",
        "company_list_1=list(filter(lambda x:x[0]!='unknown', company_list))"
      ],
      "execution_count": 0,
      "outputs": []
    },
    {
      "cell_type": "code",
      "metadata": {
        "id": "V2IzMKRc5Zmb",
        "colab_type": "code",
        "colab": {}
      },
      "source": [
        "company_dic = to_frequency_table(raw_data['companies_2'])\n",
        "company_list = list(company_dic.items())\n",
        "company_list.sort(key=lambda tup:tup[1],reverse=True)\n",
        "# drop 'unknown' item\n",
        "company_list_2=list(filter(lambda x:x[0]!='unknown', company_list))"
      ],
      "execution_count": 0,
      "outputs": []
    },
    {
      "cell_type": "code",
      "metadata": {
        "id": "5a_c7_-b7SXL",
        "colab_type": "code",
        "colab": {}
      },
      "source": [
        "company_dic = to_frequency_table(raw_data['companies_2'])\n",
        "company_list = list(company_dic.items())\n",
        "company_list.sort(key=lambda tup:tup[1],reverse=True)\n",
        "# drop 'unknown' item\n",
        "company_list_3=list(filter(lambda x:x[0]!='unknown', company_list))"
      ],
      "execution_count": 0,
      "outputs": []
    },
    {
      "cell_type": "code",
      "metadata": {
        "id": "Dgot-VsN6LaD",
        "colab_type": "code",
        "colab": {}
      },
      "source": [
        "# Combine all company in one list\n",
        "full_company_list=sorted(company_list_1+company_list_2+company_list_3)\n",
        "company_dict={}\n",
        "for a,b in full_company_list:\n",
        "    if a not in company_dict.keys():\n",
        "        company_dict[a] = b\n",
        "    elif a in company_dict.keys():\n",
        "        company_dict[a] = company_dict.get(a) + b\n",
        "\n",
        "combined_company_list = list(company_dict.items())\n",
        "combined_company_list.sort(key=lambda tup:tup[1],reverse=True)\n",
        "# drop 'unknown' item\n",
        "combined_company_list=list(filter(lambda x:x[0]!='unknown', combined_company_list))"
      ],
      "execution_count": 0,
      "outputs": []
    },
    {
      "cell_type": "code",
      "metadata": {
        "id": "iH1r-DWKutfq",
        "colab_type": "code",
        "outputId": "336ced38-0956-4957-fcb8-3c4d67b966ef",
        "colab": {
          "base_uri": "https://localhost:8080/",
          "height": 67
        }
      },
      "source": [
        "total=0\n",
        "for a,b in combined_company_list:\n",
        "    total += b\n",
        "\n",
        "top_index = 0\n",
        "top_count = 0\n",
        "for a,b in combined_company_list:\n",
        "    if b >= 20:\n",
        "        top_count += b\n",
        "        top_index += 1\n",
        "    else:\n",
        "        break\n",
        "print(top_index)\n",
        "print(len(combined_company_list))\n",
        "print(combined_company_list[top_index])"
      ],
      "execution_count": 55,
      "outputs": [
        {
          "output_type": "stream",
          "text": [
            "80\n",
            "4745\n",
            "('DC Comics', 19)\n"
          ],
          "name": "stdout"
        }
      ]
    },
    {
      "cell_type": "code",
      "metadata": {
        "id": "PHX8X5HNJ0rz",
        "colab_type": "code",
        "colab": {}
      },
      "source": [
        "# Create company columns\n",
        "toplist = Top(combined_company_list, top_index)\n",
        "for w in toplist:\n",
        "    raw_data[w] = 0"
      ],
      "execution_count": 0,
      "outputs": []
    },
    {
      "cell_type": "code",
      "metadata": {
        "id": "9oNiiUK1ixqG",
        "colab_type": "code",
        "colab": {}
      },
      "source": [
        "# Encoding Top 80 company\n",
        "for w in toplist:\n",
        "    raw_data[w][raw_data[w]!=1] = raw_data['companies_1'].map(lambda x: 1 if x in w else 0)\n",
        "for w in toplist:\n",
        "    raw_data[w][raw_data[w]!=1] = raw_data['companies_2'].map(lambda x: 1 if x in w else 0)\n",
        "for w in toplist:\n",
        "    raw_data[w][raw_data[w]!=1] = raw_data['companies_3'].map(lambda x: 1 if x in w else 0)"
      ],
      "execution_count": 0,
      "outputs": []
    },
    {
      "cell_type": "markdown",
      "metadata": {
        "id": "lWjZuHZQyCHQ",
        "colab_type": "text"
      },
      "source": [
        "#### 4.8 Drop Columns"
      ]
    },
    {
      "cell_type": "code",
      "metadata": {
        "id": "C0YgLiV8yRrC",
        "colab_type": "code",
        "colab": {}
      },
      "source": [
        "raw_data.drop(['budget','genres','id','plot_keywords','language','original_title','overview',\n",
        "               'production_companies','production_countries','release_date','duration','spoken_languages','status','movie_title','vote_average','country',\n",
        "               'director_name',\n",
        "               'actor_1_name','actor_2_name','actor_3_name',\n",
        "               'companies_1','companies_2','companies_3'], axis=1, inplace=True)"
      ],
      "execution_count": 0,
      "outputs": []
    },
    {
      "cell_type": "code",
      "metadata": {
        "id": "zCvVYq9cRs2a",
        "colab_type": "code",
        "outputId": "04507fb7-42dd-4cdf-ac88-ab3ef5d1571b",
        "colab": {
          "base_uri": "https://localhost:8080/",
          "height": 101
        }
      },
      "source": [
        "raw_data.info()"
      ],
      "execution_count": 59,
      "outputs": [
        {
          "output_type": "stream",
          "text": [
            "<class 'pandas.core.frame.DataFrame'>\n",
            "Int64Index: 7310 entries, 8 to 1934350\n",
            "Columns: 211 entries, release_year to Zentropa Entertainments\n",
            "dtypes: int64(211)\n",
            "memory usage: 12.1 MB\n"
          ],
          "name": "stdout"
        }
      ]
    },
    {
      "cell_type": "code",
      "metadata": {
        "id": "Duf9iYNLyBnc",
        "colab_type": "code",
        "outputId": "73040445-7842-41ba-f7d3-03bc4a0db0be",
        "colab": {
          "base_uri": "https://localhost:8080/",
          "height": 101
        }
      },
      "source": [
        "# Check missing value\n",
        "missing_value_table(raw_data)"
      ],
      "execution_count": 60,
      "outputs": [
        {
          "output_type": "stream",
          "text": [
            "=====Missing Value Check Table(only list not 0% column)=====\n",
            "Empty DataFrame\n",
            "Columns: [total Missing, Percent(%)]\n",
            "Index: []\n",
            "=====No Missing Value in Data after Checking=====\n"
          ],
          "name": "stdout"
        }
      ]
    },
    {
      "cell_type": "code",
      "metadata": {
        "id": "BHRLzw7t88RZ",
        "colab_type": "code",
        "outputId": "eab9018b-0a54-4cdb-88c3-af02a61f8bab",
        "colab": {
          "base_uri": "https://localhost:8080/",
          "height": 310
        }
      },
      "source": [
        "# Success and Unsuccess ratio after data manipulation\n",
        "plt.figure(figsize=(5,5))\n",
        "labels = [\"Unsuccess\",\"Success\"]\n",
        "sizes = raw_data['success'].value_counts(sort=False)\n",
        "explode = (0.1,0)  # explode 1st slice\n",
        "# Plot\n",
        "plt.pie(sizes, explode=explode, labels=labels, autopct='%1.1f%%', shadow=True, startangle=140)\n",
        "plt.axis('equal')\n",
        "plt.show()"
      ],
      "execution_count": 61,
      "outputs": [
        {
          "output_type": "display_data",
          "data": {
            "image/png": "[encoded data removed]",
            "text/plain": [
              "<Figure size 360x360 with 1 Axes>"
            ]
          },
          "metadata": {
            "tags": []
          }
        }
      ]
    },
    {
      "cell_type": "markdown",
      "metadata": {
        "id": "AStPLH_F9FmX",
        "colab_type": "text"
      },
      "source": [
        "### 5 Modeling\n",
        "*   Define Useful Functions\n",
        "*   Split Data\n",
        "*   K-Nearest Neighbors\n",
        "*   Decision Tree\n",
        "*   DNN"
      ]
    },
    {
      "cell_type": "markdown",
      "metadata": {
        "id": "OuGlRwHSha8f",
        "colab_type": "text"
      },
      "source": [
        "#### 5.0 Define Useful Functions"
      ]
    },
    {
      "cell_type": "code",
      "metadata": {
        "id": "5pJCOyQ4hft9",
        "colab_type": "code",
        "colab": {}
      },
      "source": [
        "import itertools\n",
        "def plot_confusion_matrix(cm, f1,\n",
        "                          target_names,\n",
        "                          title='Confusion matrix',\n",
        "                          cmap=None,\n",
        "                          normalize=True):\n",
        "    accuracy = np.trace(cm) / float(np.sum(cm))\n",
        "    f1_score = f1\n",
        "\n",
        "    if cmap is None:\n",
        "        cmap = plt.get_cmap('Blues')\n",
        "\n",
        "    plt.figure(figsize=(8, 6))\n",
        "    plt.imshow(cm, interpolation='nearest', cmap=cmap)\n",
        "    plt.title(title)\n",
        "    plt.colorbar()\n",
        "\n",
        "    if target_names is not None:\n",
        "        tick_marks = np.arange(len(target_names))\n",
        "        plt.xticks(tick_marks, target_names)\n",
        "        plt.yticks(tick_marks, target_names)\n",
        "\n",
        "    if normalize:\n",
        "        cm = cm.astype('float') / cm.sum(axis=1)[:, np.newaxis]\n",
        "\n",
        "    thresh = cm.max() / 1.5 if normalize else cm.max() / 2\n",
        "    for i, j in itertools.product(range(cm.shape[0]), range(cm.shape[1])):\n",
        "        if normalize:\n",
        "            plt.text(j, i, \"{:0.4f}\".format(cm[i, j]),\n",
        "                     horizontalalignment=\"center\",\n",
        "                     color=\"white\" if cm[i, j] > thresh else \"black\")\n",
        "        else:\n",
        "            plt.text(j, i, \"{:,}\".format(cm[i, j]),\n",
        "                     horizontalalignment=\"center\",\n",
        "                     color=\"white\" if cm[i, j] > thresh else \"black\")\n",
        "\n",
        "    plt.tight_layout()\n",
        "    plt.ylabel('True label')\n",
        "    plt.xlabel('Predicted Label\\nAccuracy over Test Data={:0.2f}\\nF1-Score={:0.2f}'.format(accuracy, f1_score))\n",
        "    plt.show()"
      ],
      "execution_count": 0,
      "outputs": []
    },
    {
      "cell_type": "code",
      "metadata": {
        "id": "K2E6Msqxhfw4",
        "colab_type": "code",
        "colab": {}
      },
      "source": [
        "def model_selection(clf, x_train_all, y_train_all, x_train, y_train, x_test, y_test):\n",
        "    clf.fit(x_train,y_train)\n",
        "    score_all=cross_val_score(clf, x_train_all, y_train_all, cv=5)\n",
        "    avg_score=score_all.mean()\n",
        "    print(\"Accuracy Score based on 5-fold Cross Validation: {}\\n\".format(round(avg_score,2)))\n",
        "    y_test_pred=clf.predict(x_test)\n",
        "    cm = confusion_matrix(y_test, y_test_pred)\n",
        "    f1 = f1_score(y_test, y_test_pred)\n",
        "    plot_confusion_matrix(cm,f1, normalize = False, target_names = ['failed','success'],title = \"Confusion Matrix over Test Data\")"
      ],
      "execution_count": 0,
      "outputs": []
    },
    {
      "cell_type": "markdown",
      "metadata": {
        "id": "SSW4uWw_1PXk",
        "colab_type": "text"
      },
      "source": [
        "#### 5.1 Split Data"
      ]
    },
    {
      "cell_type": "code",
      "metadata": {
        "id": "1edDJEkt9sbM",
        "colab_type": "code",
        "colab": {}
      },
      "source": [
        "# Split data into train and test set\n",
        "data = raw_data\n",
        "y = data['success']\n",
        "y = np.array(y).reshape(-1,1)\n",
        "x = data.drop('success',axis=1)\n",
        "# release_year and release_month has fixed range => Min-Max Normalization\n",
        "minmax = MinMaxScaler()\n",
        "x[['release_year','release_month']] = minmax.fit_transform(x[['release_year','release_month']])"
      ],
      "execution_count": 0,
      "outputs": []
    },
    {
      "cell_type": "code",
      "metadata": {
        "id": "aJO7-M4x9seJ",
        "colab_type": "code",
        "colab": {}
      },
      "source": [
        "x_train_all, x_test, y_train_all, y_test = train_test_split(x,y,random_state=10, test_size=.15)\n",
        "x_train, x_valid, y_train, y_valid = train_test_split(x_train_all, y_train_all, random_state=10, test_size=0.15)"
      ],
      "execution_count": 0,
      "outputs": []
    },
    {
      "cell_type": "code",
      "metadata": {
        "id": "QzOmMFD-9sgc",
        "colab_type": "code",
        "outputId": "90c3febe-16b3-4bb7-ec44-2b5f63ad0ddc",
        "colab": {
          "base_uri": "https://localhost:8080/",
          "height": 84
        }
      },
      "source": [
        "print('x_train_all: {}; y_train_all: {}.'.format(x_train_all.shape, y_train_all.shape))\n",
        "print('x_train: {}; y_train: {}.'.format(x_train.shape, y_train.shape))\n",
        "print('x_valid: {}; y_valid: {}.'.format(x_valid.shape, y_valid.shape))\n",
        "print('x_test: {}; y_test: {}.'.format(x_test.shape, y_test.shape))"
      ],
      "execution_count": 66,
      "outputs": [
        {
          "output_type": "stream",
          "text": [
            "x_train_all: (6213, 210); y_train_all: (6213, 1).\n",
            "x_train: (5281, 210); y_train: (5281, 1).\n",
            "x_valid: (932, 210); y_valid: (932, 1).\n",
            "x_test: (1097, 210); y_test: (1097, 1).\n"
          ],
          "name": "stdout"
        }
      ]
    },
    {
      "cell_type": "code",
      "metadata": {
        "id": "r_NZWiAtdeqq",
        "colab_type": "code",
        "outputId": "8e474426-8932-44cf-9cd6-79c0ebd2e81a",
        "colab": {
          "base_uri": "https://localhost:8080/",
          "height": 336
        }
      },
      "source": [
        "# According to variance ratio of each feature when n_components==original feature szie, many features can be dropped\n",
        "pca = PCA(n_components=x_train.shape[1],svd_solver='auto')\n",
        "x_train_all_pca = pca.fit_transform(x_train_all)\n",
        "var_ratio=pca.explained_variance_ratio_\n",
        "\n",
        "fig=plt.figure(figsize=(30,5))\n",
        "plt.bar([i+1 for i in range(len(var_ratio))], var_ratio)\n",
        "plt.xticks([i+1 for i in range(len(var_ratio))], ['Component '+str(i) for i in [i+1 for i in range(len(var_ratio))]])\n",
        "plt.title('Variance ratio of each component')\n",
        "plt.show()"
      ],
      "execution_count": 67,
      "outputs": [
        {
          "output_type": "display_data",
          "data": {
            "image/png": "[encoded data removed]",
            "text/plain": [
              "<Figure size 2160x360 with 1 Axes>"
            ]
          },
          "metadata": {
            "tags": []
          }
        }
      ]
    },
    {
      "cell_type": "code",
      "metadata": {
        "id": "4RG8TqCxdet2",
        "colab_type": "code",
        "colab": {}
      },
      "source": [
        "# PCA to get 90% cumulative variance in total\n",
        "pca = PCA(n_components=0.90)\n",
        "x_train_all_pca = pca.fit_transform(x_train_all)\n",
        "x_train_pca = pca.transform(x_train)\n",
        "x_valid_pca = pca.transform(x_valid)\n",
        "x_test_pca = pca.transform(x_test)"
      ],
      "execution_count": 0,
      "outputs": []
    },
    {
      "cell_type": "code",
      "metadata": {
        "id": "-prsWI2V9uCQ",
        "colab_type": "code",
        "outputId": "8e135b02-77bd-40b1-dd9d-9c956c6e94e4",
        "colab": {
          "base_uri": "https://localhost:8080/",
          "height": 84
        }
      },
      "source": [
        "print('x_train_all: {}; y_train_all: {}.'.format(x_train_all_pca.shape, y_train_all.shape))\n",
        "print('x_train: {}; y_train: {}.'.format(x_train_pca.shape, y_train.shape))\n",
        "print('x_valid: {}; y_valid: {}.'.format(x_valid_pca.shape, y_valid.shape))\n",
        "print('x_test: {}; y_test: {}.'.format(x_test_pca.shape, y_test.shape))"
      ],
      "execution_count": 69,
      "outputs": [
        {
          "output_type": "stream",
          "text": [
            "x_train_all: (6213, 39); y_train_all: (6213, 1).\n",
            "x_train: (5281, 39); y_train: (5281, 1).\n",
            "x_valid: (932, 39); y_valid: (932, 1).\n",
            "x_test: (1097, 39); y_test: (1097, 1).\n"
          ],
          "name": "stdout"
        }
      ]
    },
    {
      "cell_type": "markdown",
      "metadata": {
        "id": "qNZsCN_21S1M",
        "colab_type": "text"
      },
      "source": [
        "#### 5.2 K-Nearest Neighbors"
      ]
    },
    {
      "cell_type": "code",
      "metadata": {
        "id": "YQsw2WZx1XX8",
        "colab_type": "code",
        "outputId": "c50d44d3-4a67-4347-fd5e-caf76928436c",
        "colab": {
          "base_uri": "https://localhost:8080/",
          "height": 67
        }
      },
      "source": [
        "knn = KNeighborsClassifier(n_neighbors=25)\n",
        "knn.fit(x_train_pca, y_train)"
      ],
      "execution_count": 70,
      "outputs": [
        {
          "output_type": "execute_result",
          "data": {
            "text/plain": [
              "KNeighborsClassifier(algorithm='auto', leaf_size=30, metric='minkowski',\n",
              "                     metric_params=None, n_jobs=None, n_neighbors=25, p=2,\n",
              "                     weights='uniform')"
            ]
          },
          "metadata": {
            "tags": []
          },
          "execution_count": 70
        }
      ]
    },
    {
      "cell_type": "code",
      "metadata": {
        "id": "srS2TRNEdbe_",
        "colab_type": "code",
        "outputId": "b33911f3-89ae-4f63-be02-9b24eff93f02",
        "colab": {
          "base_uri": "https://localhost:8080/",
          "height": 512
        }
      },
      "source": [
        "model_selection(knn, x_train_all_pca, y_train_all, x_train_pca, y_train, x_test_pca, y_test)"
      ],
      "execution_count": 71,
      "outputs": [
        {
          "output_type": "stream",
          "text": [
            "Accuracy Score based on 5-fold Cross Validation: 0.73\n",
            "\n"
          ],
          "name": "stdout"
        },
        {
          "output_type": "display_data",
          "data": {
            "image/png": "[encoded data removed]",
            "text/plain": [
              "<Figure size 576x432 with 2 Axes>"
            ]
          },
          "metadata": {
            "tags": []
          }
        }
      ]
    },
    {
      "cell_type": "markdown",
      "metadata": {
        "id": "zAd6PcsedOW8",
        "colab_type": "text"
      },
      "source": [
        "#### 5.3 Decision Tree"
      ]
    },
    {
      "cell_type": "code",
      "metadata": {
        "id": "XT4R6P-X1XdS",
        "colab_type": "code",
        "outputId": "b4d39ec7-5619-4c75-c4ad-7d964c0a0d4e",
        "colab": {
          "base_uri": "https://localhost:8080/",
          "height": 118
        }
      },
      "source": [
        "decision_tree = DecisionTreeClassifier(criterion='entropy',max_depth=20, min_samples_leaf=10)\n",
        "decision_tree.fit(x_train_pca, y_train)"
      ],
      "execution_count": 72,
      "outputs": [
        {
          "output_type": "execute_result",
          "data": {
            "text/plain": [
              "DecisionTreeClassifier(ccp_alpha=0.0, class_weight=None, criterion='entropy',\n",
              "                       max_depth=20, max_features=None, max_leaf_nodes=None,\n",
              "                       min_impurity_decrease=0.0, min_impurity_split=None,\n",
              "                       min_samples_leaf=10, min_samples_split=2,\n",
              "                       min_weight_fraction_leaf=0.0, presort='deprecated',\n",
              "                       random_state=None, splitter='best')"
            ]
          },
          "metadata": {
            "tags": []
          },
          "execution_count": 72
        }
      ]
    },
    {
      "cell_type": "code",
      "metadata": {
        "id": "ZQsQPXYd1Xf6",
        "colab_type": "code",
        "outputId": "4b6667e9-51ca-4872-a800-708f813ebadc",
        "colab": {
          "base_uri": "https://localhost:8080/",
          "height": 512
        }
      },
      "source": [
        "model_selection(decision_tree, x_train_all_pca, y_train_all, x_train_pca, y_train, x_test_pca, y_test)"
      ],
      "execution_count": 73,
      "outputs": [
        {
          "output_type": "stream",
          "text": [
            "Accuracy Score based on 5-fold Cross Validation: 0.67\n",
            "\n"
          ],
          "name": "stdout"
        },
        {
          "output_type": "display_data",
          "data": {
            "image/png": "[encoded data removed]",
            "text/plain": [
              "<Figure size 576x432 with 2 Axes>"
            ]
          },
          "metadata": {
            "tags": []
          }
        }
      ]
    },
    {
      "cell_type": "markdown",
      "metadata": {
        "id": "uIWVUplEPrC4",
        "colab_type": "text"
      },
      "source": [
        "####  DNN"
      ]
    },
    {
      "cell_type": "code",
      "metadata": {
        "id": "UPa6pkM_Ptki",
        "colab_type": "code",
        "colab": {}
      },
      "source": [
        "dnn_model=Sequential([\n",
        "                  Dense(32, input_dim=x_train_pca.shape[1],activation='relu'),\n",
        "                  Dense(16, activation='relu'),\n",
        "                  Dense(8, activation='sigmoid'),\n",
        "                  Dense(1, activation='sigmoid')])"
      ],
      "execution_count": 0,
      "outputs": []
    },
    {
      "cell_type": "code",
      "metadata": {
        "id": "XUTGSNrJXHfJ",
        "colab_type": "code",
        "outputId": "84d48b18-0870-4f81-ef67-bf9be45d3607",
        "colab": {
          "base_uri": "https://localhost:8080/",
          "height": 286
        }
      },
      "source": [
        "dnn_model.summary()"
      ],
      "execution_count": 75,
      "outputs": [
        {
          "output_type": "stream",
          "text": [
            "Model: \"sequential_1\"\n",
            "_________________________________________________________________\n",
            "Layer (type)                 Output Shape              Param #   \n",
            "=================================================================\n",
            "dense_1 (Dense)              (None, 32)                1280      \n",
            "_________________________________________________________________\n",
            "dense_2 (Dense)              (None, 16)                528       \n",
            "_________________________________________________________________\n",
            "dense_3 (Dense)              (None, 8)                 136       \n",
            "_________________________________________________________________\n",
            "dense_4 (Dense)              (None, 1)                 9         \n",
            "=================================================================\n",
            "Total params: 1,953\n",
            "Trainable params: 1,953\n",
            "Non-trainable params: 0\n",
            "_________________________________________________________________\n"
          ],
          "name": "stdout"
        }
      ]
    },
    {
      "cell_type": "code",
      "metadata": {
        "id": "pCCwwFcFSFUt",
        "colab_type": "code",
        "colab": {}
      },
      "source": [
        "dnn_model.compile(optimizer='Adam', loss='binary_crossentropy',metrics=['accuracy'])"
      ],
      "execution_count": 0,
      "outputs": []
    },
    {
      "cell_type": "code",
      "metadata": {
        "id": "vWh-8deuPw2b",
        "colab_type": "code",
        "outputId": "64e57ac4-8c22-4ab2-cc00-65082ef1e401",
        "colab": {
          "base_uri": "https://localhost:8080/",
          "height": 1000
        }
      },
      "source": [
        "history = dnn_model.fit(x_train_pca, y_train, batch_size=512, epochs=88, validation_data=(x_valid_pca, y_valid))"
      ],
      "execution_count": 77,
      "outputs": [
        {
          "output_type": "stream",
          "text": [
            "Train on 5281 samples, validate on 932 samples\n",
            "Epoch 1/88\n",
            "5281/5281 [==============================] - 0s 43us/step - loss: 0.8264 - accuracy: 0.2910 - val_loss: 0.8044 - val_accuracy: 0.2876\n",
            "Epoch 2/88\n",
            "5281/5281 [==============================] - 0s 10us/step - loss: 0.7878 - accuracy: 0.2910 - val_loss: 0.7680 - val_accuracy: 0.2876\n",
            "Epoch 3/88\n",
            "5281/5281 [==============================] - 0s 7us/step - loss: 0.7521 - accuracy: 0.2910 - val_loss: 0.7336 - val_accuracy: 0.2886\n",
            "Epoch 4/88\n",
            "5281/5281 [==============================] - 0s 6us/step - loss: 0.7185 - accuracy: 0.3230 - val_loss: 0.7004 - val_accuracy: 0.4517\n",
            "Epoch 5/88\n",
            "5281/5281 [==============================] - 0s 6us/step - loss: 0.6864 - accuracy: 0.5641 - val_loss: 0.6696 - val_accuracy: 0.6663\n",
            "Epoch 6/88\n",
            "5281/5281 [==============================] - 0s 7us/step - loss: 0.6577 - accuracy: 0.6889 - val_loss: 0.6430 - val_accuracy: 0.7060\n",
            "Epoch 7/88\n",
            "5281/5281 [==============================] - 0s 6us/step - loss: 0.6337 - accuracy: 0.7084 - val_loss: 0.6212 - val_accuracy: 0.7124\n",
            "Epoch 8/88\n",
            "5281/5281 [==============================] - 0s 8us/step - loss: 0.6146 - accuracy: 0.7090 - val_loss: 0.6052 - val_accuracy: 0.7124\n",
            "Epoch 9/88\n",
            "5281/5281 [==============================] - 0s 8us/step - loss: 0.6013 - accuracy: 0.7090 - val_loss: 0.5940 - val_accuracy: 0.7124\n",
            "Epoch 10/88\n",
            "5281/5281 [==============================] - 0s 7us/step - loss: 0.5918 - accuracy: 0.7090 - val_loss: 0.5862 - val_accuracy: 0.7124\n",
            "Epoch 11/88\n",
            "5281/5281 [==============================] - 0s 7us/step - loss: 0.5849 - accuracy: 0.7090 - val_loss: 0.5802 - val_accuracy: 0.7124\n",
            "Epoch 12/88\n",
            "5281/5281 [==============================] - 0s 7us/step - loss: 0.5793 - accuracy: 0.7093 - val_loss: 0.5750 - val_accuracy: 0.7124\n",
            "Epoch 13/88\n",
            "5281/5281 [==============================] - 0s 7us/step - loss: 0.5743 - accuracy: 0.7110 - val_loss: 0.5704 - val_accuracy: 0.7146\n",
            "Epoch 14/88\n",
            "5281/5281 [==============================] - 0s 7us/step - loss: 0.5700 - accuracy: 0.7131 - val_loss: 0.5661 - val_accuracy: 0.7157\n",
            "Epoch 15/88\n",
            "5281/5281 [==============================] - 0s 6us/step - loss: 0.5660 - accuracy: 0.7152 - val_loss: 0.5623 - val_accuracy: 0.7167\n",
            "Epoch 16/88\n",
            "5281/5281 [==============================] - 0s 6us/step - loss: 0.5624 - accuracy: 0.7209 - val_loss: 0.5588 - val_accuracy: 0.7189\n",
            "Epoch 17/88\n",
            "5281/5281 [==============================] - 0s 7us/step - loss: 0.5593 - accuracy: 0.7218 - val_loss: 0.5557 - val_accuracy: 0.7221\n",
            "Epoch 18/88\n",
            "5281/5281 [==============================] - 0s 8us/step - loss: 0.5563 - accuracy: 0.7218 - val_loss: 0.5530 - val_accuracy: 0.7253\n",
            "Epoch 19/88\n",
            "5281/5281 [==============================] - 0s 6us/step - loss: 0.5536 - accuracy: 0.7237 - val_loss: 0.5507 - val_accuracy: 0.7318\n",
            "Epoch 20/88\n",
            "5281/5281 [==============================] - 0s 6us/step - loss: 0.5512 - accuracy: 0.7254 - val_loss: 0.5484 - val_accuracy: 0.7307\n",
            "Epoch 21/88\n",
            "5281/5281 [==============================] - 0s 6us/step - loss: 0.5488 - accuracy: 0.7268 - val_loss: 0.5463 - val_accuracy: 0.7339\n",
            "Epoch 22/88\n",
            "5281/5281 [==============================] - 0s 7us/step - loss: 0.5467 - accuracy: 0.7283 - val_loss: 0.5445 - val_accuracy: 0.7371\n",
            "Epoch 23/88\n",
            "5281/5281 [==============================] - 0s 7us/step - loss: 0.5447 - accuracy: 0.7300 - val_loss: 0.5426 - val_accuracy: 0.7414\n",
            "Epoch 24/88\n",
            "5281/5281 [==============================] - 0s 7us/step - loss: 0.5426 - accuracy: 0.7315 - val_loss: 0.5411 - val_accuracy: 0.7382\n",
            "Epoch 25/88\n",
            "5281/5281 [==============================] - 0s 7us/step - loss: 0.5409 - accuracy: 0.7364 - val_loss: 0.5396 - val_accuracy: 0.7350\n",
            "Epoch 26/88\n",
            "5281/5281 [==============================] - 0s 7us/step - loss: 0.5391 - accuracy: 0.7372 - val_loss: 0.5385 - val_accuracy: 0.7350\n",
            "Epoch 27/88\n",
            "5281/5281 [==============================] - 0s 7us/step - loss: 0.5375 - accuracy: 0.7398 - val_loss: 0.5378 - val_accuracy: 0.7361\n",
            "Epoch 28/88\n",
            "5281/5281 [==============================] - 0s 7us/step - loss: 0.5361 - accuracy: 0.7383 - val_loss: 0.5370 - val_accuracy: 0.7382\n",
            "Epoch 29/88\n",
            "5281/5281 [==============================] - 0s 7us/step - loss: 0.5346 - accuracy: 0.7389 - val_loss: 0.5362 - val_accuracy: 0.7382\n",
            "Epoch 30/88\n",
            "5281/5281 [==============================] - 0s 8us/step - loss: 0.5333 - accuracy: 0.7393 - val_loss: 0.5357 - val_accuracy: 0.7361\n",
            "Epoch 31/88\n",
            "5281/5281 [==============================] - 0s 7us/step - loss: 0.5319 - accuracy: 0.7421 - val_loss: 0.5353 - val_accuracy: 0.7382\n",
            "Epoch 32/88\n",
            "5281/5281 [==============================] - 0s 6us/step - loss: 0.5306 - accuracy: 0.7425 - val_loss: 0.5347 - val_accuracy: 0.7350\n",
            "Epoch 33/88\n",
            "5281/5281 [==============================] - 0s 7us/step - loss: 0.5295 - accuracy: 0.7434 - val_loss: 0.5342 - val_accuracy: 0.7371\n",
            "Epoch 34/88\n",
            "5281/5281 [==============================] - 0s 7us/step - loss: 0.5282 - accuracy: 0.7446 - val_loss: 0.5341 - val_accuracy: 0.7371\n",
            "Epoch 35/88\n",
            "5281/5281 [==============================] - 0s 6us/step - loss: 0.5271 - accuracy: 0.7449 - val_loss: 0.5340 - val_accuracy: 0.7382\n",
            "Epoch 36/88\n",
            "5281/5281 [==============================] - 0s 6us/step - loss: 0.5259 - accuracy: 0.7451 - val_loss: 0.5341 - val_accuracy: 0.7361\n",
            "Epoch 37/88\n",
            "5281/5281 [==============================] - 0s 7us/step - loss: 0.5248 - accuracy: 0.7461 - val_loss: 0.5339 - val_accuracy: 0.7350\n",
            "Epoch 38/88\n",
            "5281/5281 [==============================] - 0s 7us/step - loss: 0.5236 - accuracy: 0.7464 - val_loss: 0.5337 - val_accuracy: 0.7361\n",
            "Epoch 39/88\n",
            "5281/5281 [==============================] - 0s 6us/step - loss: 0.5225 - accuracy: 0.7474 - val_loss: 0.5335 - val_accuracy: 0.7350\n",
            "Epoch 40/88\n",
            "5281/5281 [==============================] - 0s 7us/step - loss: 0.5214 - accuracy: 0.7502 - val_loss: 0.5332 - val_accuracy: 0.7382\n",
            "Epoch 41/88\n",
            "5281/5281 [==============================] - 0s 6us/step - loss: 0.5201 - accuracy: 0.7518 - val_loss: 0.5328 - val_accuracy: 0.7382\n",
            "Epoch 42/88\n",
            "5281/5281 [==============================] - 0s 6us/step - loss: 0.5191 - accuracy: 0.7512 - val_loss: 0.5329 - val_accuracy: 0.7371\n",
            "Epoch 43/88\n",
            "5281/5281 [==============================] - 0s 7us/step - loss: 0.5181 - accuracy: 0.7535 - val_loss: 0.5329 - val_accuracy: 0.7382\n",
            "Epoch 44/88\n",
            "5281/5281 [==============================] - 0s 6us/step - loss: 0.5169 - accuracy: 0.7553 - val_loss: 0.5328 - val_accuracy: 0.7361\n",
            "Epoch 45/88\n",
            "5281/5281 [==============================] - 0s 8us/step - loss: 0.5160 - accuracy: 0.7552 - val_loss: 0.5330 - val_accuracy: 0.7371\n",
            "Epoch 46/88\n",
            "5281/5281 [==============================] - 0s 8us/step - loss: 0.5148 - accuracy: 0.7580 - val_loss: 0.5334 - val_accuracy: 0.7339\n",
            "Epoch 47/88\n",
            "5281/5281 [==============================] - 0s 6us/step - loss: 0.5138 - accuracy: 0.7569 - val_loss: 0.5336 - val_accuracy: 0.7403\n",
            "Epoch 48/88\n",
            "5281/5281 [==============================] - 0s 7us/step - loss: 0.5126 - accuracy: 0.7589 - val_loss: 0.5339 - val_accuracy: 0.7328\n",
            "Epoch 49/88\n",
            "5281/5281 [==============================] - 0s 7us/step - loss: 0.5115 - accuracy: 0.7588 - val_loss: 0.5341 - val_accuracy: 0.7350\n",
            "Epoch 50/88\n",
            "5281/5281 [==============================] - 0s 8us/step - loss: 0.5106 - accuracy: 0.7593 - val_loss: 0.5340 - val_accuracy: 0.7371\n",
            "Epoch 51/88\n",
            "5281/5281 [==============================] - 0s 7us/step - loss: 0.5095 - accuracy: 0.7601 - val_loss: 0.5342 - val_accuracy: 0.7328\n",
            "Epoch 52/88\n",
            "5281/5281 [==============================] - 0s 7us/step - loss: 0.5085 - accuracy: 0.7618 - val_loss: 0.5342 - val_accuracy: 0.7350\n",
            "Epoch 53/88\n",
            "5281/5281 [==============================] - 0s 7us/step - loss: 0.5073 - accuracy: 0.7627 - val_loss: 0.5348 - val_accuracy: 0.7361\n",
            "Epoch 54/88\n",
            "5281/5281 [==============================] - 0s 8us/step - loss: 0.5063 - accuracy: 0.7641 - val_loss: 0.5341 - val_accuracy: 0.7371\n",
            "Epoch 55/88\n",
            "5281/5281 [==============================] - 0s 7us/step - loss: 0.5052 - accuracy: 0.7650 - val_loss: 0.5345 - val_accuracy: 0.7425\n",
            "Epoch 56/88\n",
            "5281/5281 [==============================] - 0s 6us/step - loss: 0.5042 - accuracy: 0.7665 - val_loss: 0.5343 - val_accuracy: 0.7393\n",
            "Epoch 57/88\n",
            "5281/5281 [==============================] - 0s 7us/step - loss: 0.5030 - accuracy: 0.7667 - val_loss: 0.5352 - val_accuracy: 0.7361\n",
            "Epoch 58/88\n",
            "5281/5281 [==============================] - 0s 6us/step - loss: 0.5020 - accuracy: 0.7682 - val_loss: 0.5355 - val_accuracy: 0.7382\n",
            "Epoch 59/88\n",
            "5281/5281 [==============================] - 0s 7us/step - loss: 0.5009 - accuracy: 0.7694 - val_loss: 0.5354 - val_accuracy: 0.7393\n",
            "Epoch 60/88\n",
            "5281/5281 [==============================] - 0s 7us/step - loss: 0.4996 - accuracy: 0.7701 - val_loss: 0.5361 - val_accuracy: 0.7361\n",
            "Epoch 61/88\n",
            "5281/5281 [==============================] - 0s 6us/step - loss: 0.4988 - accuracy: 0.7690 - val_loss: 0.5362 - val_accuracy: 0.7361\n",
            "Epoch 62/88\n",
            "5281/5281 [==============================] - 0s 6us/step - loss: 0.4978 - accuracy: 0.7713 - val_loss: 0.5371 - val_accuracy: 0.7350\n",
            "Epoch 63/88\n",
            "5281/5281 [==============================] - 0s 6us/step - loss: 0.4964 - accuracy: 0.7730 - val_loss: 0.5369 - val_accuracy: 0.7382\n",
            "Epoch 64/88\n",
            "5281/5281 [==============================] - 0s 7us/step - loss: 0.4953 - accuracy: 0.7745 - val_loss: 0.5380 - val_accuracy: 0.7318\n",
            "Epoch 65/88\n",
            "5281/5281 [==============================] - 0s 7us/step - loss: 0.4940 - accuracy: 0.7767 - val_loss: 0.5384 - val_accuracy: 0.7339\n",
            "Epoch 66/88\n",
            "5281/5281 [==============================] - 0s 6us/step - loss: 0.4928 - accuracy: 0.7779 - val_loss: 0.5395 - val_accuracy: 0.7285\n",
            "Epoch 67/88\n",
            "5281/5281 [==============================] - 0s 7us/step - loss: 0.4916 - accuracy: 0.7781 - val_loss: 0.5396 - val_accuracy: 0.7339\n",
            "Epoch 68/88\n",
            "5281/5281 [==============================] - 0s 7us/step - loss: 0.4906 - accuracy: 0.7783 - val_loss: 0.5403 - val_accuracy: 0.7350\n",
            "Epoch 69/88\n",
            "5281/5281 [==============================] - 0s 6us/step - loss: 0.4893 - accuracy: 0.7807 - val_loss: 0.5405 - val_accuracy: 0.7339\n",
            "Epoch 70/88\n",
            "5281/5281 [==============================] - 0s 7us/step - loss: 0.4882 - accuracy: 0.7815 - val_loss: 0.5403 - val_accuracy: 0.7296\n",
            "Epoch 71/88\n",
            "5281/5281 [==============================] - 0s 8us/step - loss: 0.4873 - accuracy: 0.7826 - val_loss: 0.5412 - val_accuracy: 0.7307\n",
            "Epoch 72/88\n",
            "5281/5281 [==============================] - 0s 7us/step - loss: 0.4857 - accuracy: 0.7826 - val_loss: 0.5418 - val_accuracy: 0.7328\n",
            "Epoch 73/88\n",
            "5281/5281 [==============================] - 0s 7us/step - loss: 0.4847 - accuracy: 0.7834 - val_loss: 0.5423 - val_accuracy: 0.7296\n",
            "Epoch 74/88\n",
            "5281/5281 [==============================] - 0s 8us/step - loss: 0.4835 - accuracy: 0.7828 - val_loss: 0.5442 - val_accuracy: 0.7275\n",
            "Epoch 75/88\n",
            "5281/5281 [==============================] - 0s 6us/step - loss: 0.4822 - accuracy: 0.7843 - val_loss: 0.5447 - val_accuracy: 0.7253\n",
            "Epoch 76/88\n",
            "5281/5281 [==============================] - 0s 6us/step - loss: 0.4811 - accuracy: 0.7858 - val_loss: 0.5458 - val_accuracy: 0.7221\n",
            "Epoch 77/88\n",
            "5281/5281 [==============================] - 0s 6us/step - loss: 0.4802 - accuracy: 0.7870 - val_loss: 0.5457 - val_accuracy: 0.7242\n",
            "Epoch 78/88\n",
            "5281/5281 [==============================] - 0s 7us/step - loss: 0.4790 - accuracy: 0.7881 - val_loss: 0.5456 - val_accuracy: 0.7232\n",
            "Epoch 79/88\n",
            "5281/5281 [==============================] - 0s 8us/step - loss: 0.4779 - accuracy: 0.7904 - val_loss: 0.5462 - val_accuracy: 0.7253\n",
            "Epoch 80/88\n",
            "5281/5281 [==============================] - 0s 7us/step - loss: 0.4772 - accuracy: 0.7900 - val_loss: 0.5472 - val_accuracy: 0.7221\n",
            "Epoch 81/88\n",
            "5281/5281 [==============================] - 0s 7us/step - loss: 0.4755 - accuracy: 0.7909 - val_loss: 0.5490 - val_accuracy: 0.7210\n",
            "Epoch 82/88\n",
            "5281/5281 [==============================] - 0s 7us/step - loss: 0.4748 - accuracy: 0.7932 - val_loss: 0.5489 - val_accuracy: 0.7232\n",
            "Epoch 83/88\n",
            "5281/5281 [==============================] - 0s 7us/step - loss: 0.4737 - accuracy: 0.7936 - val_loss: 0.5502 - val_accuracy: 0.7200\n",
            "Epoch 84/88\n",
            "5281/5281 [==============================] - 0s 7us/step - loss: 0.4730 - accuracy: 0.7913 - val_loss: 0.5510 - val_accuracy: 0.7124\n",
            "Epoch 85/88\n",
            "5281/5281 [==============================] - 0s 6us/step - loss: 0.4718 - accuracy: 0.7940 - val_loss: 0.5524 - val_accuracy: 0.7146\n",
            "Epoch 86/88\n",
            "5281/5281 [==============================] - 0s 6us/step - loss: 0.4710 - accuracy: 0.7947 - val_loss: 0.5513 - val_accuracy: 0.7124\n",
            "Epoch 87/88\n",
            "5281/5281 [==============================] - 0s 6us/step - loss: 0.4704 - accuracy: 0.7961 - val_loss: 0.5524 - val_accuracy: 0.7135\n",
            "Epoch 88/88\n",
            "5281/5281 [==============================] - 0s 6us/step - loss: 0.4685 - accuracy: 0.7949 - val_loss: 0.5518 - val_accuracy: 0.7146\n"
          ],
          "name": "stdout"
        }
      ]
    },
    {
      "cell_type": "code",
      "metadata": {
        "id": "n32--DoXCjYR",
        "colab_type": "code",
        "outputId": "d023b6f1-a718-4150-989f-6658ac97f91f",
        "colab": {
          "base_uri": "https://localhost:8080/",
          "height": 320
        }
      },
      "source": [
        "def plot_learning_curves(history): \n",
        "    pd.DataFrame(history.history).plot(figsize=(10, 5)) \n",
        "    plt.grid(True) \n",
        "    plt.gca().set_ylim(0.2,0.85)\n",
        "    plt.show()\n",
        "plot_learning_curves(history)"
      ],
      "execution_count": 78,
      "outputs": [
        {
          "output_type": "display_data",
          "data": {
            "image/png": "[encoded data removed]",
            "text/plain": [
              "<Figure size 720x360 with 1 Axes>"
            ]
          },
          "metadata": {
            "tags": []
          }
        }
      ]
    },
    {
      "cell_type": "code",
      "metadata": {
        "id": "Wyh7__gsW-Rp",
        "colab_type": "code",
        "outputId": "7536b3a5-7fa9-422a-bd45-8ef1d60e2f93",
        "colab": {
          "base_uri": "https://localhost:8080/",
          "height": 34
        }
      },
      "source": [
        "y_pred = dnn_model.predict_classes(x_test_pca)\n",
        "accuracy_score(y_test,y_pred)"
      ],
      "execution_count": 79,
      "outputs": [
        {
          "output_type": "execute_result",
          "data": {
            "text/plain": [
              "0.7119416590701915"
            ]
          },
          "metadata": {
            "tags": []
          },
          "execution_count": 79
        }
      ]
    },
    {
      "cell_type": "code",
      "metadata": {
        "id": "Q4QsildPXpVj",
        "colab_type": "code",
        "outputId": "f33d1ff5-36e8-4e71-ef38-5ff14fbad738",
        "colab": {
          "base_uri": "https://localhost:8080/",
          "height": 50
        }
      },
      "source": [
        "dnn_model.evaluate(x_test_pca, y_test, verbose=1)"
      ],
      "execution_count": 80,
      "outputs": [
        {
          "output_type": "stream",
          "text": [
            "1097/1097 [==============================] - 0s 29us/step\n"
          ],
          "name": "stdout"
        },
        {
          "output_type": "execute_result",
          "data": {
            "text/plain": [
              "[0.5838294908906941, 0.711941659450531]"
            ]
          },
          "metadata": {
            "tags": []
          },
          "execution_count": 80
        }
      ]
    }
  ]
}